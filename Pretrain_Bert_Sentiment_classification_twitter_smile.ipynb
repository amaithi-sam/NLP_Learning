{
  "nbformat": 4,
  "nbformat_minor": 0,
  "metadata": {
    "colab": {
      "provenance": [],
      "gpuType": "T4",
      "authorship_tag": "ABX9TyMhfl4p02K/Cn6NNys7QLpq",
      "include_colab_link": true
    },
    "kernelspec": {
      "name": "python3",
      "display_name": "Python 3"
    },
    "language_info": {
      "name": "python"
    },
    "accelerator": "GPU",
    "widgets": {
      "application/vnd.jupyter.widget-state+json": {
        "26994a2dd06e44f292b1edceff197f19": {
          "model_module": "@jupyter-widgets/controls",
          "model_name": "HBoxModel",
          "model_module_version": "1.5.0",
          "state": {
            "_dom_classes": [],
            "_model_module": "@jupyter-widgets/controls",
            "_model_module_version": "1.5.0",
            "_model_name": "HBoxModel",
            "_view_count": null,
            "_view_module": "@jupyter-widgets/controls",
            "_view_module_version": "1.5.0",
            "_view_name": "HBoxView",
            "box_style": "",
            "children": [
              "IPY_MODEL_595d10caa4c84303a5d630dc099aafe1",
              "IPY_MODEL_1712388e0e2d43c89bb61795798c1bed",
              "IPY_MODEL_cba73d3466ab4af298e384c3b9408850"
            ],
            "layout": "IPY_MODEL_9e20dc89bd264256a20b0db325fefcdb"
          }
        },
        "595d10caa4c84303a5d630dc099aafe1": {
          "model_module": "@jupyter-widgets/controls",
          "model_name": "HTMLModel",
          "model_module_version": "1.5.0",
          "state": {
            "_dom_classes": [],
            "_model_module": "@jupyter-widgets/controls",
            "_model_module_version": "1.5.0",
            "_model_name": "HTMLModel",
            "_view_count": null,
            "_view_module": "@jupyter-widgets/controls",
            "_view_module_version": "1.5.0",
            "_view_name": "HTMLView",
            "description": "",
            "description_tooltip": null,
            "layout": "IPY_MODEL_7909a4cbcd7e4b47bb3fb8fb7a3958a6",
            "placeholder": "​",
            "style": "IPY_MODEL_b3829f7cfd084583911b710bada1325d",
            "value": "tokenizer_config.json: 100%"
          }
        },
        "1712388e0e2d43c89bb61795798c1bed": {
          "model_module": "@jupyter-widgets/controls",
          "model_name": "FloatProgressModel",
          "model_module_version": "1.5.0",
          "state": {
            "_dom_classes": [],
            "_model_module": "@jupyter-widgets/controls",
            "_model_module_version": "1.5.0",
            "_model_name": "FloatProgressModel",
            "_view_count": null,
            "_view_module": "@jupyter-widgets/controls",
            "_view_module_version": "1.5.0",
            "_view_name": "ProgressView",
            "bar_style": "success",
            "description": "",
            "description_tooltip": null,
            "layout": "IPY_MODEL_f44f5393e2094849b78ddc0ff66d74ea",
            "max": 48,
            "min": 0,
            "orientation": "horizontal",
            "style": "IPY_MODEL_e34ff7bb1e4747a8857deacff8e44d4f",
            "value": 48
          }
        },
        "cba73d3466ab4af298e384c3b9408850": {
          "model_module": "@jupyter-widgets/controls",
          "model_name": "HTMLModel",
          "model_module_version": "1.5.0",
          "state": {
            "_dom_classes": [],
            "_model_module": "@jupyter-widgets/controls",
            "_model_module_version": "1.5.0",
            "_model_name": "HTMLModel",
            "_view_count": null,
            "_view_module": "@jupyter-widgets/controls",
            "_view_module_version": "1.5.0",
            "_view_name": "HTMLView",
            "description": "",
            "description_tooltip": null,
            "layout": "IPY_MODEL_33c033ee8d774cbc8103cbcb380ecc0d",
            "placeholder": "​",
            "style": "IPY_MODEL_d4005a924ffd44298fdfa5a8134edbd2",
            "value": " 48.0/48.0 [00:00&lt;00:00, 1.55kB/s]"
          }
        },
        "9e20dc89bd264256a20b0db325fefcdb": {
          "model_module": "@jupyter-widgets/base",
          "model_name": "LayoutModel",
          "model_module_version": "1.2.0",
          "state": {
            "_model_module": "@jupyter-widgets/base",
            "_model_module_version": "1.2.0",
            "_model_name": "LayoutModel",
            "_view_count": null,
            "_view_module": "@jupyter-widgets/base",
            "_view_module_version": "1.2.0",
            "_view_name": "LayoutView",
            "align_content": null,
            "align_items": null,
            "align_self": null,
            "border": null,
            "bottom": null,
            "display": null,
            "flex": null,
            "flex_flow": null,
            "grid_area": null,
            "grid_auto_columns": null,
            "grid_auto_flow": null,
            "grid_auto_rows": null,
            "grid_column": null,
            "grid_gap": null,
            "grid_row": null,
            "grid_template_areas": null,
            "grid_template_columns": null,
            "grid_template_rows": null,
            "height": null,
            "justify_content": null,
            "justify_items": null,
            "left": null,
            "margin": null,
            "max_height": null,
            "max_width": null,
            "min_height": null,
            "min_width": null,
            "object_fit": null,
            "object_position": null,
            "order": null,
            "overflow": null,
            "overflow_x": null,
            "overflow_y": null,
            "padding": null,
            "right": null,
            "top": null,
            "visibility": null,
            "width": null
          }
        },
        "7909a4cbcd7e4b47bb3fb8fb7a3958a6": {
          "model_module": "@jupyter-widgets/base",
          "model_name": "LayoutModel",
          "model_module_version": "1.2.0",
          "state": {
            "_model_module": "@jupyter-widgets/base",
            "_model_module_version": "1.2.0",
            "_model_name": "LayoutModel",
            "_view_count": null,
            "_view_module": "@jupyter-widgets/base",
            "_view_module_version": "1.2.0",
            "_view_name": "LayoutView",
            "align_content": null,
            "align_items": null,
            "align_self": null,
            "border": null,
            "bottom": null,
            "display": null,
            "flex": null,
            "flex_flow": null,
            "grid_area": null,
            "grid_auto_columns": null,
            "grid_auto_flow": null,
            "grid_auto_rows": null,
            "grid_column": null,
            "grid_gap": null,
            "grid_row": null,
            "grid_template_areas": null,
            "grid_template_columns": null,
            "grid_template_rows": null,
            "height": null,
            "justify_content": null,
            "justify_items": null,
            "left": null,
            "margin": null,
            "max_height": null,
            "max_width": null,
            "min_height": null,
            "min_width": null,
            "object_fit": null,
            "object_position": null,
            "order": null,
            "overflow": null,
            "overflow_x": null,
            "overflow_y": null,
            "padding": null,
            "right": null,
            "top": null,
            "visibility": null,
            "width": null
          }
        },
        "b3829f7cfd084583911b710bada1325d": {
          "model_module": "@jupyter-widgets/controls",
          "model_name": "DescriptionStyleModel",
          "model_module_version": "1.5.0",
          "state": {
            "_model_module": "@jupyter-widgets/controls",
            "_model_module_version": "1.5.0",
            "_model_name": "DescriptionStyleModel",
            "_view_count": null,
            "_view_module": "@jupyter-widgets/base",
            "_view_module_version": "1.2.0",
            "_view_name": "StyleView",
            "description_width": ""
          }
        },
        "f44f5393e2094849b78ddc0ff66d74ea": {
          "model_module": "@jupyter-widgets/base",
          "model_name": "LayoutModel",
          "model_module_version": "1.2.0",
          "state": {
            "_model_module": "@jupyter-widgets/base",
            "_model_module_version": "1.2.0",
            "_model_name": "LayoutModel",
            "_view_count": null,
            "_view_module": "@jupyter-widgets/base",
            "_view_module_version": "1.2.0",
            "_view_name": "LayoutView",
            "align_content": null,
            "align_items": null,
            "align_self": null,
            "border": null,
            "bottom": null,
            "display": null,
            "flex": null,
            "flex_flow": null,
            "grid_area": null,
            "grid_auto_columns": null,
            "grid_auto_flow": null,
            "grid_auto_rows": null,
            "grid_column": null,
            "grid_gap": null,
            "grid_row": null,
            "grid_template_areas": null,
            "grid_template_columns": null,
            "grid_template_rows": null,
            "height": null,
            "justify_content": null,
            "justify_items": null,
            "left": null,
            "margin": null,
            "max_height": null,
            "max_width": null,
            "min_height": null,
            "min_width": null,
            "object_fit": null,
            "object_position": null,
            "order": null,
            "overflow": null,
            "overflow_x": null,
            "overflow_y": null,
            "padding": null,
            "right": null,
            "top": null,
            "visibility": null,
            "width": null
          }
        },
        "e34ff7bb1e4747a8857deacff8e44d4f": {
          "model_module": "@jupyter-widgets/controls",
          "model_name": "ProgressStyleModel",
          "model_module_version": "1.5.0",
          "state": {
            "_model_module": "@jupyter-widgets/controls",
            "_model_module_version": "1.5.0",
            "_model_name": "ProgressStyleModel",
            "_view_count": null,
            "_view_module": "@jupyter-widgets/base",
            "_view_module_version": "1.2.0",
            "_view_name": "StyleView",
            "bar_color": null,
            "description_width": ""
          }
        },
        "33c033ee8d774cbc8103cbcb380ecc0d": {
          "model_module": "@jupyter-widgets/base",
          "model_name": "LayoutModel",
          "model_module_version": "1.2.0",
          "state": {
            "_model_module": "@jupyter-widgets/base",
            "_model_module_version": "1.2.0",
            "_model_name": "LayoutModel",
            "_view_count": null,
            "_view_module": "@jupyter-widgets/base",
            "_view_module_version": "1.2.0",
            "_view_name": "LayoutView",
            "align_content": null,
            "align_items": null,
            "align_self": null,
            "border": null,
            "bottom": null,
            "display": null,
            "flex": null,
            "flex_flow": null,
            "grid_area": null,
            "grid_auto_columns": null,
            "grid_auto_flow": null,
            "grid_auto_rows": null,
            "grid_column": null,
            "grid_gap": null,
            "grid_row": null,
            "grid_template_areas": null,
            "grid_template_columns": null,
            "grid_template_rows": null,
            "height": null,
            "justify_content": null,
            "justify_items": null,
            "left": null,
            "margin": null,
            "max_height": null,
            "max_width": null,
            "min_height": null,
            "min_width": null,
            "object_fit": null,
            "object_position": null,
            "order": null,
            "overflow": null,
            "overflow_x": null,
            "overflow_y": null,
            "padding": null,
            "right": null,
            "top": null,
            "visibility": null,
            "width": null
          }
        },
        "d4005a924ffd44298fdfa5a8134edbd2": {
          "model_module": "@jupyter-widgets/controls",
          "model_name": "DescriptionStyleModel",
          "model_module_version": "1.5.0",
          "state": {
            "_model_module": "@jupyter-widgets/controls",
            "_model_module_version": "1.5.0",
            "_model_name": "DescriptionStyleModel",
            "_view_count": null,
            "_view_module": "@jupyter-widgets/base",
            "_view_module_version": "1.2.0",
            "_view_name": "StyleView",
            "description_width": ""
          }
        },
        "828dfb111b0741749d18d9c86370ddae": {
          "model_module": "@jupyter-widgets/controls",
          "model_name": "HBoxModel",
          "model_module_version": "1.5.0",
          "state": {
            "_dom_classes": [],
            "_model_module": "@jupyter-widgets/controls",
            "_model_module_version": "1.5.0",
            "_model_name": "HBoxModel",
            "_view_count": null,
            "_view_module": "@jupyter-widgets/controls",
            "_view_module_version": "1.5.0",
            "_view_name": "HBoxView",
            "box_style": "",
            "children": [
              "IPY_MODEL_458abacff5124480b730c912d62d6a43",
              "IPY_MODEL_6c65523ca8b34a839c8ba008e4e08f58",
              "IPY_MODEL_5cc707844dc54aeb85bb228fb7197e77"
            ],
            "layout": "IPY_MODEL_52a3593f4d094613bbc9d2ece336c4c6"
          }
        },
        "458abacff5124480b730c912d62d6a43": {
          "model_module": "@jupyter-widgets/controls",
          "model_name": "HTMLModel",
          "model_module_version": "1.5.0",
          "state": {
            "_dom_classes": [],
            "_model_module": "@jupyter-widgets/controls",
            "_model_module_version": "1.5.0",
            "_model_name": "HTMLModel",
            "_view_count": null,
            "_view_module": "@jupyter-widgets/controls",
            "_view_module_version": "1.5.0",
            "_view_name": "HTMLView",
            "description": "",
            "description_tooltip": null,
            "layout": "IPY_MODEL_b3d62621e61c4d6781c68b1e04a58546",
            "placeholder": "​",
            "style": "IPY_MODEL_b3d7ba9148fc4fe681d3fa09b4a60845",
            "value": "vocab.txt: 100%"
          }
        },
        "6c65523ca8b34a839c8ba008e4e08f58": {
          "model_module": "@jupyter-widgets/controls",
          "model_name": "FloatProgressModel",
          "model_module_version": "1.5.0",
          "state": {
            "_dom_classes": [],
            "_model_module": "@jupyter-widgets/controls",
            "_model_module_version": "1.5.0",
            "_model_name": "FloatProgressModel",
            "_view_count": null,
            "_view_module": "@jupyter-widgets/controls",
            "_view_module_version": "1.5.0",
            "_view_name": "ProgressView",
            "bar_style": "success",
            "description": "",
            "description_tooltip": null,
            "layout": "IPY_MODEL_e42cc23037f44dc1b48f970058263940",
            "max": 231508,
            "min": 0,
            "orientation": "horizontal",
            "style": "IPY_MODEL_12ec4277562f4607bf6041d9bbb9b0e2",
            "value": 231508
          }
        },
        "5cc707844dc54aeb85bb228fb7197e77": {
          "model_module": "@jupyter-widgets/controls",
          "model_name": "HTMLModel",
          "model_module_version": "1.5.0",
          "state": {
            "_dom_classes": [],
            "_model_module": "@jupyter-widgets/controls",
            "_model_module_version": "1.5.0",
            "_model_name": "HTMLModel",
            "_view_count": null,
            "_view_module": "@jupyter-widgets/controls",
            "_view_module_version": "1.5.0",
            "_view_name": "HTMLView",
            "description": "",
            "description_tooltip": null,
            "layout": "IPY_MODEL_6fed021c33b446d3999c85b2e091c62d",
            "placeholder": "​",
            "style": "IPY_MODEL_c2fde3c14d5f4cb49ddd1b484d74159c",
            "value": " 232k/232k [00:00&lt;00:00, 5.83MB/s]"
          }
        },
        "52a3593f4d094613bbc9d2ece336c4c6": {
          "model_module": "@jupyter-widgets/base",
          "model_name": "LayoutModel",
          "model_module_version": "1.2.0",
          "state": {
            "_model_module": "@jupyter-widgets/base",
            "_model_module_version": "1.2.0",
            "_model_name": "LayoutModel",
            "_view_count": null,
            "_view_module": "@jupyter-widgets/base",
            "_view_module_version": "1.2.0",
            "_view_name": "LayoutView",
            "align_content": null,
            "align_items": null,
            "align_self": null,
            "border": null,
            "bottom": null,
            "display": null,
            "flex": null,
            "flex_flow": null,
            "grid_area": null,
            "grid_auto_columns": null,
            "grid_auto_flow": null,
            "grid_auto_rows": null,
            "grid_column": null,
            "grid_gap": null,
            "grid_row": null,
            "grid_template_areas": null,
            "grid_template_columns": null,
            "grid_template_rows": null,
            "height": null,
            "justify_content": null,
            "justify_items": null,
            "left": null,
            "margin": null,
            "max_height": null,
            "max_width": null,
            "min_height": null,
            "min_width": null,
            "object_fit": null,
            "object_position": null,
            "order": null,
            "overflow": null,
            "overflow_x": null,
            "overflow_y": null,
            "padding": null,
            "right": null,
            "top": null,
            "visibility": null,
            "width": null
          }
        },
        "b3d62621e61c4d6781c68b1e04a58546": {
          "model_module": "@jupyter-widgets/base",
          "model_name": "LayoutModel",
          "model_module_version": "1.2.0",
          "state": {
            "_model_module": "@jupyter-widgets/base",
            "_model_module_version": "1.2.0",
            "_model_name": "LayoutModel",
            "_view_count": null,
            "_view_module": "@jupyter-widgets/base",
            "_view_module_version": "1.2.0",
            "_view_name": "LayoutView",
            "align_content": null,
            "align_items": null,
            "align_self": null,
            "border": null,
            "bottom": null,
            "display": null,
            "flex": null,
            "flex_flow": null,
            "grid_area": null,
            "grid_auto_columns": null,
            "grid_auto_flow": null,
            "grid_auto_rows": null,
            "grid_column": null,
            "grid_gap": null,
            "grid_row": null,
            "grid_template_areas": null,
            "grid_template_columns": null,
            "grid_template_rows": null,
            "height": null,
            "justify_content": null,
            "justify_items": null,
            "left": null,
            "margin": null,
            "max_height": null,
            "max_width": null,
            "min_height": null,
            "min_width": null,
            "object_fit": null,
            "object_position": null,
            "order": null,
            "overflow": null,
            "overflow_x": null,
            "overflow_y": null,
            "padding": null,
            "right": null,
            "top": null,
            "visibility": null,
            "width": null
          }
        },
        "b3d7ba9148fc4fe681d3fa09b4a60845": {
          "model_module": "@jupyter-widgets/controls",
          "model_name": "DescriptionStyleModel",
          "model_module_version": "1.5.0",
          "state": {
            "_model_module": "@jupyter-widgets/controls",
            "_model_module_version": "1.5.0",
            "_model_name": "DescriptionStyleModel",
            "_view_count": null,
            "_view_module": "@jupyter-widgets/base",
            "_view_module_version": "1.2.0",
            "_view_name": "StyleView",
            "description_width": ""
          }
        },
        "e42cc23037f44dc1b48f970058263940": {
          "model_module": "@jupyter-widgets/base",
          "model_name": "LayoutModel",
          "model_module_version": "1.2.0",
          "state": {
            "_model_module": "@jupyter-widgets/base",
            "_model_module_version": "1.2.0",
            "_model_name": "LayoutModel",
            "_view_count": null,
            "_view_module": "@jupyter-widgets/base",
            "_view_module_version": "1.2.0",
            "_view_name": "LayoutView",
            "align_content": null,
            "align_items": null,
            "align_self": null,
            "border": null,
            "bottom": null,
            "display": null,
            "flex": null,
            "flex_flow": null,
            "grid_area": null,
            "grid_auto_columns": null,
            "grid_auto_flow": null,
            "grid_auto_rows": null,
            "grid_column": null,
            "grid_gap": null,
            "grid_row": null,
            "grid_template_areas": null,
            "grid_template_columns": null,
            "grid_template_rows": null,
            "height": null,
            "justify_content": null,
            "justify_items": null,
            "left": null,
            "margin": null,
            "max_height": null,
            "max_width": null,
            "min_height": null,
            "min_width": null,
            "object_fit": null,
            "object_position": null,
            "order": null,
            "overflow": null,
            "overflow_x": null,
            "overflow_y": null,
            "padding": null,
            "right": null,
            "top": null,
            "visibility": null,
            "width": null
          }
        },
        "12ec4277562f4607bf6041d9bbb9b0e2": {
          "model_module": "@jupyter-widgets/controls",
          "model_name": "ProgressStyleModel",
          "model_module_version": "1.5.0",
          "state": {
            "_model_module": "@jupyter-widgets/controls",
            "_model_module_version": "1.5.0",
            "_model_name": "ProgressStyleModel",
            "_view_count": null,
            "_view_module": "@jupyter-widgets/base",
            "_view_module_version": "1.2.0",
            "_view_name": "StyleView",
            "bar_color": null,
            "description_width": ""
          }
        },
        "6fed021c33b446d3999c85b2e091c62d": {
          "model_module": "@jupyter-widgets/base",
          "model_name": "LayoutModel",
          "model_module_version": "1.2.0",
          "state": {
            "_model_module": "@jupyter-widgets/base",
            "_model_module_version": "1.2.0",
            "_model_name": "LayoutModel",
            "_view_count": null,
            "_view_module": "@jupyter-widgets/base",
            "_view_module_version": "1.2.0",
            "_view_name": "LayoutView",
            "align_content": null,
            "align_items": null,
            "align_self": null,
            "border": null,
            "bottom": null,
            "display": null,
            "flex": null,
            "flex_flow": null,
            "grid_area": null,
            "grid_auto_columns": null,
            "grid_auto_flow": null,
            "grid_auto_rows": null,
            "grid_column": null,
            "grid_gap": null,
            "grid_row": null,
            "grid_template_areas": null,
            "grid_template_columns": null,
            "grid_template_rows": null,
            "height": null,
            "justify_content": null,
            "justify_items": null,
            "left": null,
            "margin": null,
            "max_height": null,
            "max_width": null,
            "min_height": null,
            "min_width": null,
            "object_fit": null,
            "object_position": null,
            "order": null,
            "overflow": null,
            "overflow_x": null,
            "overflow_y": null,
            "padding": null,
            "right": null,
            "top": null,
            "visibility": null,
            "width": null
          }
        },
        "c2fde3c14d5f4cb49ddd1b484d74159c": {
          "model_module": "@jupyter-widgets/controls",
          "model_name": "DescriptionStyleModel",
          "model_module_version": "1.5.0",
          "state": {
            "_model_module": "@jupyter-widgets/controls",
            "_model_module_version": "1.5.0",
            "_model_name": "DescriptionStyleModel",
            "_view_count": null,
            "_view_module": "@jupyter-widgets/base",
            "_view_module_version": "1.2.0",
            "_view_name": "StyleView",
            "description_width": ""
          }
        },
        "6638279bc8604fe8ab429f371d699edd": {
          "model_module": "@jupyter-widgets/controls",
          "model_name": "HBoxModel",
          "model_module_version": "1.5.0",
          "state": {
            "_dom_classes": [],
            "_model_module": "@jupyter-widgets/controls",
            "_model_module_version": "1.5.0",
            "_model_name": "HBoxModel",
            "_view_count": null,
            "_view_module": "@jupyter-widgets/controls",
            "_view_module_version": "1.5.0",
            "_view_name": "HBoxView",
            "box_style": "",
            "children": [
              "IPY_MODEL_f10ce51681794e5285fa709a0ae0a6ed",
              "IPY_MODEL_d58dd7f1440142008c355e60cf2bd785",
              "IPY_MODEL_bf194ad2115f453cb6e5304958e320cd"
            ],
            "layout": "IPY_MODEL_d0500f13e94944d3ad7b08027fa30c49"
          }
        },
        "f10ce51681794e5285fa709a0ae0a6ed": {
          "model_module": "@jupyter-widgets/controls",
          "model_name": "HTMLModel",
          "model_module_version": "1.5.0",
          "state": {
            "_dom_classes": [],
            "_model_module": "@jupyter-widgets/controls",
            "_model_module_version": "1.5.0",
            "_model_name": "HTMLModel",
            "_view_count": null,
            "_view_module": "@jupyter-widgets/controls",
            "_view_module_version": "1.5.0",
            "_view_name": "HTMLView",
            "description": "",
            "description_tooltip": null,
            "layout": "IPY_MODEL_30dffd08c74148e493ceeab878596b3c",
            "placeholder": "​",
            "style": "IPY_MODEL_4dfc352e2e874a25b9c900cf39ab7624",
            "value": "tokenizer.json: 100%"
          }
        },
        "d58dd7f1440142008c355e60cf2bd785": {
          "model_module": "@jupyter-widgets/controls",
          "model_name": "FloatProgressModel",
          "model_module_version": "1.5.0",
          "state": {
            "_dom_classes": [],
            "_model_module": "@jupyter-widgets/controls",
            "_model_module_version": "1.5.0",
            "_model_name": "FloatProgressModel",
            "_view_count": null,
            "_view_module": "@jupyter-widgets/controls",
            "_view_module_version": "1.5.0",
            "_view_name": "ProgressView",
            "bar_style": "success",
            "description": "",
            "description_tooltip": null,
            "layout": "IPY_MODEL_2feea8d8a76d49be8b32961f2d7a2d02",
            "max": 466062,
            "min": 0,
            "orientation": "horizontal",
            "style": "IPY_MODEL_097e209af9ca49c09f66a825388f2c64",
            "value": 466062
          }
        },
        "bf194ad2115f453cb6e5304958e320cd": {
          "model_module": "@jupyter-widgets/controls",
          "model_name": "HTMLModel",
          "model_module_version": "1.5.0",
          "state": {
            "_dom_classes": [],
            "_model_module": "@jupyter-widgets/controls",
            "_model_module_version": "1.5.0",
            "_model_name": "HTMLModel",
            "_view_count": null,
            "_view_module": "@jupyter-widgets/controls",
            "_view_module_version": "1.5.0",
            "_view_name": "HTMLView",
            "description": "",
            "description_tooltip": null,
            "layout": "IPY_MODEL_444501508f824a458635bff5d3d9b79d",
            "placeholder": "​",
            "style": "IPY_MODEL_6018dafc77f04e31a5efa0d265b84a47",
            "value": " 466k/466k [00:00&lt;00:00, 709kB/s]"
          }
        },
        "d0500f13e94944d3ad7b08027fa30c49": {
          "model_module": "@jupyter-widgets/base",
          "model_name": "LayoutModel",
          "model_module_version": "1.2.0",
          "state": {
            "_model_module": "@jupyter-widgets/base",
            "_model_module_version": "1.2.0",
            "_model_name": "LayoutModel",
            "_view_count": null,
            "_view_module": "@jupyter-widgets/base",
            "_view_module_version": "1.2.0",
            "_view_name": "LayoutView",
            "align_content": null,
            "align_items": null,
            "align_self": null,
            "border": null,
            "bottom": null,
            "display": null,
            "flex": null,
            "flex_flow": null,
            "grid_area": null,
            "grid_auto_columns": null,
            "grid_auto_flow": null,
            "grid_auto_rows": null,
            "grid_column": null,
            "grid_gap": null,
            "grid_row": null,
            "grid_template_areas": null,
            "grid_template_columns": null,
            "grid_template_rows": null,
            "height": null,
            "justify_content": null,
            "justify_items": null,
            "left": null,
            "margin": null,
            "max_height": null,
            "max_width": null,
            "min_height": null,
            "min_width": null,
            "object_fit": null,
            "object_position": null,
            "order": null,
            "overflow": null,
            "overflow_x": null,
            "overflow_y": null,
            "padding": null,
            "right": null,
            "top": null,
            "visibility": null,
            "width": null
          }
        },
        "30dffd08c74148e493ceeab878596b3c": {
          "model_module": "@jupyter-widgets/base",
          "model_name": "LayoutModel",
          "model_module_version": "1.2.0",
          "state": {
            "_model_module": "@jupyter-widgets/base",
            "_model_module_version": "1.2.0",
            "_model_name": "LayoutModel",
            "_view_count": null,
            "_view_module": "@jupyter-widgets/base",
            "_view_module_version": "1.2.0",
            "_view_name": "LayoutView",
            "align_content": null,
            "align_items": null,
            "align_self": null,
            "border": null,
            "bottom": null,
            "display": null,
            "flex": null,
            "flex_flow": null,
            "grid_area": null,
            "grid_auto_columns": null,
            "grid_auto_flow": null,
            "grid_auto_rows": null,
            "grid_column": null,
            "grid_gap": null,
            "grid_row": null,
            "grid_template_areas": null,
            "grid_template_columns": null,
            "grid_template_rows": null,
            "height": null,
            "justify_content": null,
            "justify_items": null,
            "left": null,
            "margin": null,
            "max_height": null,
            "max_width": null,
            "min_height": null,
            "min_width": null,
            "object_fit": null,
            "object_position": null,
            "order": null,
            "overflow": null,
            "overflow_x": null,
            "overflow_y": null,
            "padding": null,
            "right": null,
            "top": null,
            "visibility": null,
            "width": null
          }
        },
        "4dfc352e2e874a25b9c900cf39ab7624": {
          "model_module": "@jupyter-widgets/controls",
          "model_name": "DescriptionStyleModel",
          "model_module_version": "1.5.0",
          "state": {
            "_model_module": "@jupyter-widgets/controls",
            "_model_module_version": "1.5.0",
            "_model_name": "DescriptionStyleModel",
            "_view_count": null,
            "_view_module": "@jupyter-widgets/base",
            "_view_module_version": "1.2.0",
            "_view_name": "StyleView",
            "description_width": ""
          }
        },
        "2feea8d8a76d49be8b32961f2d7a2d02": {
          "model_module": "@jupyter-widgets/base",
          "model_name": "LayoutModel",
          "model_module_version": "1.2.0",
          "state": {
            "_model_module": "@jupyter-widgets/base",
            "_model_module_version": "1.2.0",
            "_model_name": "LayoutModel",
            "_view_count": null,
            "_view_module": "@jupyter-widgets/base",
            "_view_module_version": "1.2.0",
            "_view_name": "LayoutView",
            "align_content": null,
            "align_items": null,
            "align_self": null,
            "border": null,
            "bottom": null,
            "display": null,
            "flex": null,
            "flex_flow": null,
            "grid_area": null,
            "grid_auto_columns": null,
            "grid_auto_flow": null,
            "grid_auto_rows": null,
            "grid_column": null,
            "grid_gap": null,
            "grid_row": null,
            "grid_template_areas": null,
            "grid_template_columns": null,
            "grid_template_rows": null,
            "height": null,
            "justify_content": null,
            "justify_items": null,
            "left": null,
            "margin": null,
            "max_height": null,
            "max_width": null,
            "min_height": null,
            "min_width": null,
            "object_fit": null,
            "object_position": null,
            "order": null,
            "overflow": null,
            "overflow_x": null,
            "overflow_y": null,
            "padding": null,
            "right": null,
            "top": null,
            "visibility": null,
            "width": null
          }
        },
        "097e209af9ca49c09f66a825388f2c64": {
          "model_module": "@jupyter-widgets/controls",
          "model_name": "ProgressStyleModel",
          "model_module_version": "1.5.0",
          "state": {
            "_model_module": "@jupyter-widgets/controls",
            "_model_module_version": "1.5.0",
            "_model_name": "ProgressStyleModel",
            "_view_count": null,
            "_view_module": "@jupyter-widgets/base",
            "_view_module_version": "1.2.0",
            "_view_name": "StyleView",
            "bar_color": null,
            "description_width": ""
          }
        },
        "444501508f824a458635bff5d3d9b79d": {
          "model_module": "@jupyter-widgets/base",
          "model_name": "LayoutModel",
          "model_module_version": "1.2.0",
          "state": {
            "_model_module": "@jupyter-widgets/base",
            "_model_module_version": "1.2.0",
            "_model_name": "LayoutModel",
            "_view_count": null,
            "_view_module": "@jupyter-widgets/base",
            "_view_module_version": "1.2.0",
            "_view_name": "LayoutView",
            "align_content": null,
            "align_items": null,
            "align_self": null,
            "border": null,
            "bottom": null,
            "display": null,
            "flex": null,
            "flex_flow": null,
            "grid_area": null,
            "grid_auto_columns": null,
            "grid_auto_flow": null,
            "grid_auto_rows": null,
            "grid_column": null,
            "grid_gap": null,
            "grid_row": null,
            "grid_template_areas": null,
            "grid_template_columns": null,
            "grid_template_rows": null,
            "height": null,
            "justify_content": null,
            "justify_items": null,
            "left": null,
            "margin": null,
            "max_height": null,
            "max_width": null,
            "min_height": null,
            "min_width": null,
            "object_fit": null,
            "object_position": null,
            "order": null,
            "overflow": null,
            "overflow_x": null,
            "overflow_y": null,
            "padding": null,
            "right": null,
            "top": null,
            "visibility": null,
            "width": null
          }
        },
        "6018dafc77f04e31a5efa0d265b84a47": {
          "model_module": "@jupyter-widgets/controls",
          "model_name": "DescriptionStyleModel",
          "model_module_version": "1.5.0",
          "state": {
            "_model_module": "@jupyter-widgets/controls",
            "_model_module_version": "1.5.0",
            "_model_name": "DescriptionStyleModel",
            "_view_count": null,
            "_view_module": "@jupyter-widgets/base",
            "_view_module_version": "1.2.0",
            "_view_name": "StyleView",
            "description_width": ""
          }
        },
        "9e0c1304df464673bb0becd37b15bf89": {
          "model_module": "@jupyter-widgets/controls",
          "model_name": "HBoxModel",
          "model_module_version": "1.5.0",
          "state": {
            "_dom_classes": [],
            "_model_module": "@jupyter-widgets/controls",
            "_model_module_version": "1.5.0",
            "_model_name": "HBoxModel",
            "_view_count": null,
            "_view_module": "@jupyter-widgets/controls",
            "_view_module_version": "1.5.0",
            "_view_name": "HBoxView",
            "box_style": "",
            "children": [
              "IPY_MODEL_143c0661dcf54d1480e178a05b43d6d2",
              "IPY_MODEL_dc43005a9e79409cbecddc4036cf6072",
              "IPY_MODEL_15826cdedaa7460d91cef492ce8de358"
            ],
            "layout": "IPY_MODEL_ef29891bf56d4db298a3c6b1819b2daf"
          }
        },
        "143c0661dcf54d1480e178a05b43d6d2": {
          "model_module": "@jupyter-widgets/controls",
          "model_name": "HTMLModel",
          "model_module_version": "1.5.0",
          "state": {
            "_dom_classes": [],
            "_model_module": "@jupyter-widgets/controls",
            "_model_module_version": "1.5.0",
            "_model_name": "HTMLModel",
            "_view_count": null,
            "_view_module": "@jupyter-widgets/controls",
            "_view_module_version": "1.5.0",
            "_view_name": "HTMLView",
            "description": "",
            "description_tooltip": null,
            "layout": "IPY_MODEL_aeaa7e6cc2c54e849d7408f82e33d1b1",
            "placeholder": "​",
            "style": "IPY_MODEL_5d5f829a0fc54407bd95d861a03c5a55",
            "value": "config.json: 100%"
          }
        },
        "dc43005a9e79409cbecddc4036cf6072": {
          "model_module": "@jupyter-widgets/controls",
          "model_name": "FloatProgressModel",
          "model_module_version": "1.5.0",
          "state": {
            "_dom_classes": [],
            "_model_module": "@jupyter-widgets/controls",
            "_model_module_version": "1.5.0",
            "_model_name": "FloatProgressModel",
            "_view_count": null,
            "_view_module": "@jupyter-widgets/controls",
            "_view_module_version": "1.5.0",
            "_view_name": "ProgressView",
            "bar_style": "success",
            "description": "",
            "description_tooltip": null,
            "layout": "IPY_MODEL_fc85c2e71a7b485dba7ace0e91a47226",
            "max": 570,
            "min": 0,
            "orientation": "horizontal",
            "style": "IPY_MODEL_30f934f21b384f44aeedbdf1cab4db5b",
            "value": 570
          }
        },
        "15826cdedaa7460d91cef492ce8de358": {
          "model_module": "@jupyter-widgets/controls",
          "model_name": "HTMLModel",
          "model_module_version": "1.5.0",
          "state": {
            "_dom_classes": [],
            "_model_module": "@jupyter-widgets/controls",
            "_model_module_version": "1.5.0",
            "_model_name": "HTMLModel",
            "_view_count": null,
            "_view_module": "@jupyter-widgets/controls",
            "_view_module_version": "1.5.0",
            "_view_name": "HTMLView",
            "description": "",
            "description_tooltip": null,
            "layout": "IPY_MODEL_4afe7bad133b47ae8e13e50b40f6db71",
            "placeholder": "​",
            "style": "IPY_MODEL_a725090f47e14a7a93b37d40c0c99c68",
            "value": " 570/570 [00:00&lt;00:00, 18.8kB/s]"
          }
        },
        "ef29891bf56d4db298a3c6b1819b2daf": {
          "model_module": "@jupyter-widgets/base",
          "model_name": "LayoutModel",
          "model_module_version": "1.2.0",
          "state": {
            "_model_module": "@jupyter-widgets/base",
            "_model_module_version": "1.2.0",
            "_model_name": "LayoutModel",
            "_view_count": null,
            "_view_module": "@jupyter-widgets/base",
            "_view_module_version": "1.2.0",
            "_view_name": "LayoutView",
            "align_content": null,
            "align_items": null,
            "align_self": null,
            "border": null,
            "bottom": null,
            "display": null,
            "flex": null,
            "flex_flow": null,
            "grid_area": null,
            "grid_auto_columns": null,
            "grid_auto_flow": null,
            "grid_auto_rows": null,
            "grid_column": null,
            "grid_gap": null,
            "grid_row": null,
            "grid_template_areas": null,
            "grid_template_columns": null,
            "grid_template_rows": null,
            "height": null,
            "justify_content": null,
            "justify_items": null,
            "left": null,
            "margin": null,
            "max_height": null,
            "max_width": null,
            "min_height": null,
            "min_width": null,
            "object_fit": null,
            "object_position": null,
            "order": null,
            "overflow": null,
            "overflow_x": null,
            "overflow_y": null,
            "padding": null,
            "right": null,
            "top": null,
            "visibility": null,
            "width": null
          }
        },
        "aeaa7e6cc2c54e849d7408f82e33d1b1": {
          "model_module": "@jupyter-widgets/base",
          "model_name": "LayoutModel",
          "model_module_version": "1.2.0",
          "state": {
            "_model_module": "@jupyter-widgets/base",
            "_model_module_version": "1.2.0",
            "_model_name": "LayoutModel",
            "_view_count": null,
            "_view_module": "@jupyter-widgets/base",
            "_view_module_version": "1.2.0",
            "_view_name": "LayoutView",
            "align_content": null,
            "align_items": null,
            "align_self": null,
            "border": null,
            "bottom": null,
            "display": null,
            "flex": null,
            "flex_flow": null,
            "grid_area": null,
            "grid_auto_columns": null,
            "grid_auto_flow": null,
            "grid_auto_rows": null,
            "grid_column": null,
            "grid_gap": null,
            "grid_row": null,
            "grid_template_areas": null,
            "grid_template_columns": null,
            "grid_template_rows": null,
            "height": null,
            "justify_content": null,
            "justify_items": null,
            "left": null,
            "margin": null,
            "max_height": null,
            "max_width": null,
            "min_height": null,
            "min_width": null,
            "object_fit": null,
            "object_position": null,
            "order": null,
            "overflow": null,
            "overflow_x": null,
            "overflow_y": null,
            "padding": null,
            "right": null,
            "top": null,
            "visibility": null,
            "width": null
          }
        },
        "5d5f829a0fc54407bd95d861a03c5a55": {
          "model_module": "@jupyter-widgets/controls",
          "model_name": "DescriptionStyleModel",
          "model_module_version": "1.5.0",
          "state": {
            "_model_module": "@jupyter-widgets/controls",
            "_model_module_version": "1.5.0",
            "_model_name": "DescriptionStyleModel",
            "_view_count": null,
            "_view_module": "@jupyter-widgets/base",
            "_view_module_version": "1.2.0",
            "_view_name": "StyleView",
            "description_width": ""
          }
        },
        "fc85c2e71a7b485dba7ace0e91a47226": {
          "model_module": "@jupyter-widgets/base",
          "model_name": "LayoutModel",
          "model_module_version": "1.2.0",
          "state": {
            "_model_module": "@jupyter-widgets/base",
            "_model_module_version": "1.2.0",
            "_model_name": "LayoutModel",
            "_view_count": null,
            "_view_module": "@jupyter-widgets/base",
            "_view_module_version": "1.2.0",
            "_view_name": "LayoutView",
            "align_content": null,
            "align_items": null,
            "align_self": null,
            "border": null,
            "bottom": null,
            "display": null,
            "flex": null,
            "flex_flow": null,
            "grid_area": null,
            "grid_auto_columns": null,
            "grid_auto_flow": null,
            "grid_auto_rows": null,
            "grid_column": null,
            "grid_gap": null,
            "grid_row": null,
            "grid_template_areas": null,
            "grid_template_columns": null,
            "grid_template_rows": null,
            "height": null,
            "justify_content": null,
            "justify_items": null,
            "left": null,
            "margin": null,
            "max_height": null,
            "max_width": null,
            "min_height": null,
            "min_width": null,
            "object_fit": null,
            "object_position": null,
            "order": null,
            "overflow": null,
            "overflow_x": null,
            "overflow_y": null,
            "padding": null,
            "right": null,
            "top": null,
            "visibility": null,
            "width": null
          }
        },
        "30f934f21b384f44aeedbdf1cab4db5b": {
          "model_module": "@jupyter-widgets/controls",
          "model_name": "ProgressStyleModel",
          "model_module_version": "1.5.0",
          "state": {
            "_model_module": "@jupyter-widgets/controls",
            "_model_module_version": "1.5.0",
            "_model_name": "ProgressStyleModel",
            "_view_count": null,
            "_view_module": "@jupyter-widgets/base",
            "_view_module_version": "1.2.0",
            "_view_name": "StyleView",
            "bar_color": null,
            "description_width": ""
          }
        },
        "4afe7bad133b47ae8e13e50b40f6db71": {
          "model_module": "@jupyter-widgets/base",
          "model_name": "LayoutModel",
          "model_module_version": "1.2.0",
          "state": {
            "_model_module": "@jupyter-widgets/base",
            "_model_module_version": "1.2.0",
            "_model_name": "LayoutModel",
            "_view_count": null,
            "_view_module": "@jupyter-widgets/base",
            "_view_module_version": "1.2.0",
            "_view_name": "LayoutView",
            "align_content": null,
            "align_items": null,
            "align_self": null,
            "border": null,
            "bottom": null,
            "display": null,
            "flex": null,
            "flex_flow": null,
            "grid_area": null,
            "grid_auto_columns": null,
            "grid_auto_flow": null,
            "grid_auto_rows": null,
            "grid_column": null,
            "grid_gap": null,
            "grid_row": null,
            "grid_template_areas": null,
            "grid_template_columns": null,
            "grid_template_rows": null,
            "height": null,
            "justify_content": null,
            "justify_items": null,
            "left": null,
            "margin": null,
            "max_height": null,
            "max_width": null,
            "min_height": null,
            "min_width": null,
            "object_fit": null,
            "object_position": null,
            "order": null,
            "overflow": null,
            "overflow_x": null,
            "overflow_y": null,
            "padding": null,
            "right": null,
            "top": null,
            "visibility": null,
            "width": null
          }
        },
        "a725090f47e14a7a93b37d40c0c99c68": {
          "model_module": "@jupyter-widgets/controls",
          "model_name": "DescriptionStyleModel",
          "model_module_version": "1.5.0",
          "state": {
            "_model_module": "@jupyter-widgets/controls",
            "_model_module_version": "1.5.0",
            "_model_name": "DescriptionStyleModel",
            "_view_count": null,
            "_view_module": "@jupyter-widgets/base",
            "_view_module_version": "1.2.0",
            "_view_name": "StyleView",
            "description_width": ""
          }
        }
      }
    }
  },
  "cells": [
    {
      "cell_type": "markdown",
      "metadata": {
        "id": "view-in-github",
        "colab_type": "text"
      },
      "source": [
        "<a href=\"https://colab.research.google.com/github/amaithi-sam/NLP_Learning/blob/main/Pretrain_Bert_Sentiment_classification_twitter_smile.ipynb\" target=\"_parent\"><img src=\"https://colab.research.google.com/assets/colab-badge.svg\" alt=\"Open In Colab\"/></a>"
      ]
    },
    {
      "cell_type": "markdown",
      "source": [
        "# Bert Sentiment Analysis classification using Twitter smile dataset\n",
        "\n",
        "Dataset: `https://figshare.com/articles/dataset/smile_annotations_final_csv/3187909/2`"
      ],
      "metadata": {
        "id": "oaSH8bGH99T4"
      }
    },
    {
      "cell_type": "markdown",
      "source": [
        "EDA"
      ],
      "metadata": {
        "id": "sx25g--D-Tjq"
      }
    },
    {
      "cell_type": "code",
      "execution_count": 1,
      "metadata": {
        "id": "khQ_kkfl8uUd"
      },
      "outputs": [],
      "source": [
        "import torch\n",
        "import pandas as pd\n",
        "from tqdm import tqdm\n"
      ]
    },
    {
      "cell_type": "code",
      "source": [
        "df = pd.read_csv('smile-annotations-final.csv', names=['id', 'text', 'category'])\n",
        "df.set_index('id', inplace=True)\n",
        "df.head()"
      ],
      "metadata": {
        "colab": {
          "base_uri": "https://localhost:8080/",
          "height": 238
        },
        "id": "ZRTBPlY--amc",
        "outputId": "76640222-7e1a-439e-d570-36ff28e8c393"
      },
      "execution_count": 4,
      "outputs": [
        {
          "output_type": "execute_result",
          "data": {
            "text/plain": [
              "                                                                 text category\n",
              "id                                                                            \n",
              "611857364396965889  @aandraous @britishmuseum @AndrewsAntonio Merc...   nocode\n",
              "614484565059596288  Dorian Gray with Rainbow Scarf #LoveWins (from...    happy\n",
              "614746522043973632  @SelectShowcase @Tate_StIves ... Replace with ...    happy\n",
              "614877582664835073  @Sofabsports thank you for following me back. ...    happy\n",
              "611932373039644672  @britishmuseum @TudorHistory What a beautiful ...    happy"
            ],
            "text/html": [
              "\n",
              "  <div id=\"df-8c272fdf-4213-406a-9747-b267b4fe023e\" class=\"colab-df-container\">\n",
              "    <div>\n",
              "<style scoped>\n",
              "    .dataframe tbody tr th:only-of-type {\n",
              "        vertical-align: middle;\n",
              "    }\n",
              "\n",
              "    .dataframe tbody tr th {\n",
              "        vertical-align: top;\n",
              "    }\n",
              "\n",
              "    .dataframe thead th {\n",
              "        text-align: right;\n",
              "    }\n",
              "</style>\n",
              "<table border=\"1\" class=\"dataframe\">\n",
              "  <thead>\n",
              "    <tr style=\"text-align: right;\">\n",
              "      <th></th>\n",
              "      <th>text</th>\n",
              "      <th>category</th>\n",
              "    </tr>\n",
              "    <tr>\n",
              "      <th>id</th>\n",
              "      <th></th>\n",
              "      <th></th>\n",
              "    </tr>\n",
              "  </thead>\n",
              "  <tbody>\n",
              "    <tr>\n",
              "      <th>611857364396965889</th>\n",
              "      <td>@aandraous @britishmuseum @AndrewsAntonio Merc...</td>\n",
              "      <td>nocode</td>\n",
              "    </tr>\n",
              "    <tr>\n",
              "      <th>614484565059596288</th>\n",
              "      <td>Dorian Gray with Rainbow Scarf #LoveWins (from...</td>\n",
              "      <td>happy</td>\n",
              "    </tr>\n",
              "    <tr>\n",
              "      <th>614746522043973632</th>\n",
              "      <td>@SelectShowcase @Tate_StIves ... Replace with ...</td>\n",
              "      <td>happy</td>\n",
              "    </tr>\n",
              "    <tr>\n",
              "      <th>614877582664835073</th>\n",
              "      <td>@Sofabsports thank you for following me back. ...</td>\n",
              "      <td>happy</td>\n",
              "    </tr>\n",
              "    <tr>\n",
              "      <th>611932373039644672</th>\n",
              "      <td>@britishmuseum @TudorHistory What a beautiful ...</td>\n",
              "      <td>happy</td>\n",
              "    </tr>\n",
              "  </tbody>\n",
              "</table>\n",
              "</div>\n",
              "    <div class=\"colab-df-buttons\">\n",
              "\n",
              "  <div class=\"colab-df-container\">\n",
              "    <button class=\"colab-df-convert\" onclick=\"convertToInteractive('df-8c272fdf-4213-406a-9747-b267b4fe023e')\"\n",
              "            title=\"Convert this dataframe to an interactive table.\"\n",
              "            style=\"display:none;\">\n",
              "\n",
              "  <svg xmlns=\"http://www.w3.org/2000/svg\" height=\"24px\" viewBox=\"0 -960 960 960\">\n",
              "    <path d=\"M120-120v-720h720v720H120Zm60-500h600v-160H180v160Zm220 220h160v-160H400v160Zm0 220h160v-160H400v160ZM180-400h160v-160H180v160Zm440 0h160v-160H620v160ZM180-180h160v-160H180v160Zm440 0h160v-160H620v160Z\"/>\n",
              "  </svg>\n",
              "    </button>\n",
              "\n",
              "  <style>\n",
              "    .colab-df-container {\n",
              "      display:flex;\n",
              "      gap: 12px;\n",
              "    }\n",
              "\n",
              "    .colab-df-convert {\n",
              "      background-color: #E8F0FE;\n",
              "      border: none;\n",
              "      border-radius: 50%;\n",
              "      cursor: pointer;\n",
              "      display: none;\n",
              "      fill: #1967D2;\n",
              "      height: 32px;\n",
              "      padding: 0 0 0 0;\n",
              "      width: 32px;\n",
              "    }\n",
              "\n",
              "    .colab-df-convert:hover {\n",
              "      background-color: #E2EBFA;\n",
              "      box-shadow: 0px 1px 2px rgba(60, 64, 67, 0.3), 0px 1px 3px 1px rgba(60, 64, 67, 0.15);\n",
              "      fill: #174EA6;\n",
              "    }\n",
              "\n",
              "    .colab-df-buttons div {\n",
              "      margin-bottom: 4px;\n",
              "    }\n",
              "\n",
              "    [theme=dark] .colab-df-convert {\n",
              "      background-color: #3B4455;\n",
              "      fill: #D2E3FC;\n",
              "    }\n",
              "\n",
              "    [theme=dark] .colab-df-convert:hover {\n",
              "      background-color: #434B5C;\n",
              "      box-shadow: 0px 1px 3px 1px rgba(0, 0, 0, 0.15);\n",
              "      filter: drop-shadow(0px 1px 2px rgba(0, 0, 0, 0.3));\n",
              "      fill: #FFFFFF;\n",
              "    }\n",
              "  </style>\n",
              "\n",
              "    <script>\n",
              "      const buttonEl =\n",
              "        document.querySelector('#df-8c272fdf-4213-406a-9747-b267b4fe023e button.colab-df-convert');\n",
              "      buttonEl.style.display =\n",
              "        google.colab.kernel.accessAllowed ? 'block' : 'none';\n",
              "\n",
              "      async function convertToInteractive(key) {\n",
              "        const element = document.querySelector('#df-8c272fdf-4213-406a-9747-b267b4fe023e');\n",
              "        const dataTable =\n",
              "          await google.colab.kernel.invokeFunction('convertToInteractive',\n",
              "                                                    [key], {});\n",
              "        if (!dataTable) return;\n",
              "\n",
              "        const docLinkHtml = 'Like what you see? Visit the ' +\n",
              "          '<a target=\"_blank\" href=https://colab.research.google.com/notebooks/data_table.ipynb>data table notebook</a>'\n",
              "          + ' to learn more about interactive tables.';\n",
              "        element.innerHTML = '';\n",
              "        dataTable['output_type'] = 'display_data';\n",
              "        await google.colab.output.renderOutput(dataTable, element);\n",
              "        const docLink = document.createElement('div');\n",
              "        docLink.innerHTML = docLinkHtml;\n",
              "        element.appendChild(docLink);\n",
              "      }\n",
              "    </script>\n",
              "  </div>\n",
              "\n",
              "\n",
              "<div id=\"df-759ca318-6c8f-4411-8549-57e637aa44a3\">\n",
              "  <button class=\"colab-df-quickchart\" onclick=\"quickchart('df-759ca318-6c8f-4411-8549-57e637aa44a3')\"\n",
              "            title=\"Suggest charts\"\n",
              "            style=\"display:none;\">\n",
              "\n",
              "<svg xmlns=\"http://www.w3.org/2000/svg\" height=\"24px\"viewBox=\"0 0 24 24\"\n",
              "     width=\"24px\">\n",
              "    <g>\n",
              "        <path d=\"M19 3H5c-1.1 0-2 .9-2 2v14c0 1.1.9 2 2 2h14c1.1 0 2-.9 2-2V5c0-1.1-.9-2-2-2zM9 17H7v-7h2v7zm4 0h-2V7h2v10zm4 0h-2v-4h2v4z\"/>\n",
              "    </g>\n",
              "</svg>\n",
              "  </button>\n",
              "\n",
              "<style>\n",
              "  .colab-df-quickchart {\n",
              "      --bg-color: #E8F0FE;\n",
              "      --fill-color: #1967D2;\n",
              "      --hover-bg-color: #E2EBFA;\n",
              "      --hover-fill-color: #174EA6;\n",
              "      --disabled-fill-color: #AAA;\n",
              "      --disabled-bg-color: #DDD;\n",
              "  }\n",
              "\n",
              "  [theme=dark] .colab-df-quickchart {\n",
              "      --bg-color: #3B4455;\n",
              "      --fill-color: #D2E3FC;\n",
              "      --hover-bg-color: #434B5C;\n",
              "      --hover-fill-color: #FFFFFF;\n",
              "      --disabled-bg-color: #3B4455;\n",
              "      --disabled-fill-color: #666;\n",
              "  }\n",
              "\n",
              "  .colab-df-quickchart {\n",
              "    background-color: var(--bg-color);\n",
              "    border: none;\n",
              "    border-radius: 50%;\n",
              "    cursor: pointer;\n",
              "    display: none;\n",
              "    fill: var(--fill-color);\n",
              "    height: 32px;\n",
              "    padding: 0;\n",
              "    width: 32px;\n",
              "  }\n",
              "\n",
              "  .colab-df-quickchart:hover {\n",
              "    background-color: var(--hover-bg-color);\n",
              "    box-shadow: 0 1px 2px rgba(60, 64, 67, 0.3), 0 1px 3px 1px rgba(60, 64, 67, 0.15);\n",
              "    fill: var(--button-hover-fill-color);\n",
              "  }\n",
              "\n",
              "  .colab-df-quickchart-complete:disabled,\n",
              "  .colab-df-quickchart-complete:disabled:hover {\n",
              "    background-color: var(--disabled-bg-color);\n",
              "    fill: var(--disabled-fill-color);\n",
              "    box-shadow: none;\n",
              "  }\n",
              "\n",
              "  .colab-df-spinner {\n",
              "    border: 2px solid var(--fill-color);\n",
              "    border-color: transparent;\n",
              "    border-bottom-color: var(--fill-color);\n",
              "    animation:\n",
              "      spin 1s steps(1) infinite;\n",
              "  }\n",
              "\n",
              "  @keyframes spin {\n",
              "    0% {\n",
              "      border-color: transparent;\n",
              "      border-bottom-color: var(--fill-color);\n",
              "      border-left-color: var(--fill-color);\n",
              "    }\n",
              "    20% {\n",
              "      border-color: transparent;\n",
              "      border-left-color: var(--fill-color);\n",
              "      border-top-color: var(--fill-color);\n",
              "    }\n",
              "    30% {\n",
              "      border-color: transparent;\n",
              "      border-left-color: var(--fill-color);\n",
              "      border-top-color: var(--fill-color);\n",
              "      border-right-color: var(--fill-color);\n",
              "    }\n",
              "    40% {\n",
              "      border-color: transparent;\n",
              "      border-right-color: var(--fill-color);\n",
              "      border-top-color: var(--fill-color);\n",
              "    }\n",
              "    60% {\n",
              "      border-color: transparent;\n",
              "      border-right-color: var(--fill-color);\n",
              "    }\n",
              "    80% {\n",
              "      border-color: transparent;\n",
              "      border-right-color: var(--fill-color);\n",
              "      border-bottom-color: var(--fill-color);\n",
              "    }\n",
              "    90% {\n",
              "      border-color: transparent;\n",
              "      border-bottom-color: var(--fill-color);\n",
              "    }\n",
              "  }\n",
              "</style>\n",
              "\n",
              "  <script>\n",
              "    async function quickchart(key) {\n",
              "      const quickchartButtonEl =\n",
              "        document.querySelector('#' + key + ' button');\n",
              "      quickchartButtonEl.disabled = true;  // To prevent multiple clicks.\n",
              "      quickchartButtonEl.classList.add('colab-df-spinner');\n",
              "      try {\n",
              "        const charts = await google.colab.kernel.invokeFunction(\n",
              "            'suggestCharts', [key], {});\n",
              "      } catch (error) {\n",
              "        console.error('Error during call to suggestCharts:', error);\n",
              "      }\n",
              "      quickchartButtonEl.classList.remove('colab-df-spinner');\n",
              "      quickchartButtonEl.classList.add('colab-df-quickchart-complete');\n",
              "    }\n",
              "    (() => {\n",
              "      let quickchartButtonEl =\n",
              "        document.querySelector('#df-759ca318-6c8f-4411-8549-57e637aa44a3 button');\n",
              "      quickchartButtonEl.style.display =\n",
              "        google.colab.kernel.accessAllowed ? 'block' : 'none';\n",
              "    })();\n",
              "  </script>\n",
              "</div>\n",
              "\n",
              "    </div>\n",
              "  </div>\n"
            ],
            "application/vnd.google.colaboratory.intrinsic+json": {
              "type": "dataframe",
              "variable_name": "df",
              "summary": "{\n  \"name\": \"df\",\n  \"rows\": 3085,\n  \"fields\": [\n    {\n      \"column\": \"id\",\n      \"properties\": {\n        \"dtype\": \"number\",\n        \"std\": 4950760811642779,\n        \"min\": 387190863773724672,\n        \"max\": 615595635723481088,\n        \"num_unique_values\": 3085,\n        \"samples\": [\n          612663670997258240,\n          613679581602648064,\n          614841238093725696\n        ],\n        \"semantic_type\": \"\",\n        \"description\": \"\"\n      }\n    },\n    {\n      \"column\": \"text\",\n      \"properties\": {\n        \"dtype\": \"string\",\n        \"num_unique_values\": 3043,\n        \"samples\": [\n          \"Don't forget our AS &amp; A' Level 'Subject Tasters Week' coming this September across @CamUnivMuseums. Book your FREE place today 01223 332904\",\n          \"Wondrous manuscripts and books of the past. Paper is an amazing inspiration of tremendous delight @britishmuseum #RT https://t.co/T7lsDBn2nZ\",\n          \"\\\"Crisis Through the Ages\\\" topic of our one-day conference. Booking is free but mandatory. Thx! @ManeyArchaeo @wellcometrust @britishmuseum\"\n        ],\n        \"semantic_type\": \"\",\n        \"description\": \"\"\n      }\n    },\n    {\n      \"column\": \"category\",\n      \"properties\": {\n        \"dtype\": \"category\",\n        \"num_unique_values\": 13,\n        \"samples\": [\n          \"sad|angry\",\n          \"happy|sad\",\n          \"nocode\"\n        ],\n        \"semantic_type\": \"\",\n        \"description\": \"\"\n      }\n    }\n  ]\n}"
            }
          },
          "metadata": {},
          "execution_count": 4
        }
      ]
    },
    {
      "cell_type": "code",
      "source": [
        "df.category.value_counts()"
      ],
      "metadata": {
        "colab": {
          "base_uri": "https://localhost:8080/"
        },
        "id": "uoNdOk8Z-dBY",
        "outputId": "3b69608b-17ff-40b8-89c8-f26ef8172234"
      },
      "execution_count": 5,
      "outputs": [
        {
          "output_type": "execute_result",
          "data": {
            "text/plain": [
              "category\n",
              "nocode               1572\n",
              "happy                1137\n",
              "not-relevant          214\n",
              "angry                  57\n",
              "surprise               35\n",
              "sad                    32\n",
              "happy|surprise         11\n",
              "happy|sad               9\n",
              "disgust|angry           7\n",
              "disgust                 6\n",
              "sad|disgust             2\n",
              "sad|angry               2\n",
              "sad|disgust|angry       1\n",
              "Name: count, dtype: int64"
            ]
          },
          "metadata": {},
          "execution_count": 5
        }
      ]
    },
    {
      "cell_type": "code",
      "source": [
        "# filter category\n",
        "\n",
        "df = df[~df.category.str.contains(r'\\|')]\n",
        "df.category.value_counts()"
      ],
      "metadata": {
        "colab": {
          "base_uri": "https://localhost:8080/"
        },
        "id": "Zt9sQWmb-1bZ",
        "outputId": "804b283b-fe12-4765-87f0-3363659d51c6"
      },
      "execution_count": 6,
      "outputs": [
        {
          "output_type": "execute_result",
          "data": {
            "text/plain": [
              "category\n",
              "nocode          1572\n",
              "happy           1137\n",
              "not-relevant     214\n",
              "angry             57\n",
              "surprise          35\n",
              "sad               32\n",
              "disgust            6\n",
              "Name: count, dtype: int64"
            ]
          },
          "metadata": {},
          "execution_count": 6
        }
      ]
    },
    {
      "cell_type": "code",
      "source": [
        "df = df[df.category != 'nocode']\n",
        "df.category.value_counts()"
      ],
      "metadata": {
        "colab": {
          "base_uri": "https://localhost:8080/"
        },
        "id": "lqgVZLKY_LQi",
        "outputId": "4284c7f4-ca26-462d-e53c-47bb8b7db6d3"
      },
      "execution_count": 7,
      "outputs": [
        {
          "output_type": "execute_result",
          "data": {
            "text/plain": [
              "category\n",
              "happy           1137\n",
              "not-relevant     214\n",
              "angry             57\n",
              "surprise          35\n",
              "sad               32\n",
              "disgust            6\n",
              "Name: count, dtype: int64"
            ]
          },
          "metadata": {},
          "execution_count": 7
        }
      ]
    },
    {
      "cell_type": "code",
      "source": [
        "possible_labels = df.category.unique()\n",
        "possible_labels"
      ],
      "metadata": {
        "colab": {
          "base_uri": "https://localhost:8080/"
        },
        "id": "oNTSxQHh_mzN",
        "outputId": "e8fd57ae-4cd4-4455-b382-497dab899779"
      },
      "execution_count": 8,
      "outputs": [
        {
          "output_type": "execute_result",
          "data": {
            "text/plain": [
              "array(['happy', 'not-relevant', 'angry', 'disgust', 'sad', 'surprise'],\n",
              "      dtype=object)"
            ]
          },
          "metadata": {},
          "execution_count": 8
        }
      ]
    },
    {
      "cell_type": "code",
      "source": [
        "# Label encoding\n",
        "\n",
        "label_dict = {}\n",
        "\n",
        "for idx, possible_label in enumerate(possible_labels):\n",
        "  label_dict[possible_label] = idx\n",
        "\n",
        "label_dict"
      ],
      "metadata": {
        "colab": {
          "base_uri": "https://localhost:8080/"
        },
        "id": "yD5Rwub6_rQM",
        "outputId": "2c2d83ac-7bc4-4b2c-eadf-31697ce222d5"
      },
      "execution_count": 9,
      "outputs": [
        {
          "output_type": "execute_result",
          "data": {
            "text/plain": [
              "{'happy': 0,\n",
              " 'not-relevant': 1,\n",
              " 'angry': 2,\n",
              " 'disgust': 3,\n",
              " 'sad': 4,\n",
              " 'surprise': 5}"
            ]
          },
          "metadata": {},
          "execution_count": 9
        }
      ]
    },
    {
      "cell_type": "code",
      "source": [
        "df['label'] = df['category'].replace(label_dict)\n",
        "df.head()"
      ],
      "metadata": {
        "colab": {
          "base_uri": "https://localhost:8080/",
          "height": 238
        },
        "id": "IE43KFy8BXUr",
        "outputId": "ea5815f2-7f4d-4442-f766-0a1cb3f48605"
      },
      "execution_count": 10,
      "outputs": [
        {
          "output_type": "execute_result",
          "data": {
            "text/plain": [
              "                                                                 text  \\\n",
              "id                                                                      \n",
              "614484565059596288  Dorian Gray with Rainbow Scarf #LoveWins (from...   \n",
              "614746522043973632  @SelectShowcase @Tate_StIves ... Replace with ...   \n",
              "614877582664835073  @Sofabsports thank you for following me back. ...   \n",
              "611932373039644672  @britishmuseum @TudorHistory What a beautiful ...   \n",
              "611570404268883969  @NationalGallery @ThePoldarkian I have always ...   \n",
              "\n",
              "                   category  label  \n",
              "id                                  \n",
              "614484565059596288    happy      0  \n",
              "614746522043973632    happy      0  \n",
              "614877582664835073    happy      0  \n",
              "611932373039644672    happy      0  \n",
              "611570404268883969    happy      0  "
            ],
            "text/html": [
              "\n",
              "  <div id=\"df-4d6259e9-8889-4dea-b677-75095d0a54ac\" class=\"colab-df-container\">\n",
              "    <div>\n",
              "<style scoped>\n",
              "    .dataframe tbody tr th:only-of-type {\n",
              "        vertical-align: middle;\n",
              "    }\n",
              "\n",
              "    .dataframe tbody tr th {\n",
              "        vertical-align: top;\n",
              "    }\n",
              "\n",
              "    .dataframe thead th {\n",
              "        text-align: right;\n",
              "    }\n",
              "</style>\n",
              "<table border=\"1\" class=\"dataframe\">\n",
              "  <thead>\n",
              "    <tr style=\"text-align: right;\">\n",
              "      <th></th>\n",
              "      <th>text</th>\n",
              "      <th>category</th>\n",
              "      <th>label</th>\n",
              "    </tr>\n",
              "    <tr>\n",
              "      <th>id</th>\n",
              "      <th></th>\n",
              "      <th></th>\n",
              "      <th></th>\n",
              "    </tr>\n",
              "  </thead>\n",
              "  <tbody>\n",
              "    <tr>\n",
              "      <th>614484565059596288</th>\n",
              "      <td>Dorian Gray with Rainbow Scarf #LoveWins (from...</td>\n",
              "      <td>happy</td>\n",
              "      <td>0</td>\n",
              "    </tr>\n",
              "    <tr>\n",
              "      <th>614746522043973632</th>\n",
              "      <td>@SelectShowcase @Tate_StIves ... Replace with ...</td>\n",
              "      <td>happy</td>\n",
              "      <td>0</td>\n",
              "    </tr>\n",
              "    <tr>\n",
              "      <th>614877582664835073</th>\n",
              "      <td>@Sofabsports thank you for following me back. ...</td>\n",
              "      <td>happy</td>\n",
              "      <td>0</td>\n",
              "    </tr>\n",
              "    <tr>\n",
              "      <th>611932373039644672</th>\n",
              "      <td>@britishmuseum @TudorHistory What a beautiful ...</td>\n",
              "      <td>happy</td>\n",
              "      <td>0</td>\n",
              "    </tr>\n",
              "    <tr>\n",
              "      <th>611570404268883969</th>\n",
              "      <td>@NationalGallery @ThePoldarkian I have always ...</td>\n",
              "      <td>happy</td>\n",
              "      <td>0</td>\n",
              "    </tr>\n",
              "  </tbody>\n",
              "</table>\n",
              "</div>\n",
              "    <div class=\"colab-df-buttons\">\n",
              "\n",
              "  <div class=\"colab-df-container\">\n",
              "    <button class=\"colab-df-convert\" onclick=\"convertToInteractive('df-4d6259e9-8889-4dea-b677-75095d0a54ac')\"\n",
              "            title=\"Convert this dataframe to an interactive table.\"\n",
              "            style=\"display:none;\">\n",
              "\n",
              "  <svg xmlns=\"http://www.w3.org/2000/svg\" height=\"24px\" viewBox=\"0 -960 960 960\">\n",
              "    <path d=\"M120-120v-720h720v720H120Zm60-500h600v-160H180v160Zm220 220h160v-160H400v160Zm0 220h160v-160H400v160ZM180-400h160v-160H180v160Zm440 0h160v-160H620v160ZM180-180h160v-160H180v160Zm440 0h160v-160H620v160Z\"/>\n",
              "  </svg>\n",
              "    </button>\n",
              "\n",
              "  <style>\n",
              "    .colab-df-container {\n",
              "      display:flex;\n",
              "      gap: 12px;\n",
              "    }\n",
              "\n",
              "    .colab-df-convert {\n",
              "      background-color: #E8F0FE;\n",
              "      border: none;\n",
              "      border-radius: 50%;\n",
              "      cursor: pointer;\n",
              "      display: none;\n",
              "      fill: #1967D2;\n",
              "      height: 32px;\n",
              "      padding: 0 0 0 0;\n",
              "      width: 32px;\n",
              "    }\n",
              "\n",
              "    .colab-df-convert:hover {\n",
              "      background-color: #E2EBFA;\n",
              "      box-shadow: 0px 1px 2px rgba(60, 64, 67, 0.3), 0px 1px 3px 1px rgba(60, 64, 67, 0.15);\n",
              "      fill: #174EA6;\n",
              "    }\n",
              "\n",
              "    .colab-df-buttons div {\n",
              "      margin-bottom: 4px;\n",
              "    }\n",
              "\n",
              "    [theme=dark] .colab-df-convert {\n",
              "      background-color: #3B4455;\n",
              "      fill: #D2E3FC;\n",
              "    }\n",
              "\n",
              "    [theme=dark] .colab-df-convert:hover {\n",
              "      background-color: #434B5C;\n",
              "      box-shadow: 0px 1px 3px 1px rgba(0, 0, 0, 0.15);\n",
              "      filter: drop-shadow(0px 1px 2px rgba(0, 0, 0, 0.3));\n",
              "      fill: #FFFFFF;\n",
              "    }\n",
              "  </style>\n",
              "\n",
              "    <script>\n",
              "      const buttonEl =\n",
              "        document.querySelector('#df-4d6259e9-8889-4dea-b677-75095d0a54ac button.colab-df-convert');\n",
              "      buttonEl.style.display =\n",
              "        google.colab.kernel.accessAllowed ? 'block' : 'none';\n",
              "\n",
              "      async function convertToInteractive(key) {\n",
              "        const element = document.querySelector('#df-4d6259e9-8889-4dea-b677-75095d0a54ac');\n",
              "        const dataTable =\n",
              "          await google.colab.kernel.invokeFunction('convertToInteractive',\n",
              "                                                    [key], {});\n",
              "        if (!dataTable) return;\n",
              "\n",
              "        const docLinkHtml = 'Like what you see? Visit the ' +\n",
              "          '<a target=\"_blank\" href=https://colab.research.google.com/notebooks/data_table.ipynb>data table notebook</a>'\n",
              "          + ' to learn more about interactive tables.';\n",
              "        element.innerHTML = '';\n",
              "        dataTable['output_type'] = 'display_data';\n",
              "        await google.colab.output.renderOutput(dataTable, element);\n",
              "        const docLink = document.createElement('div');\n",
              "        docLink.innerHTML = docLinkHtml;\n",
              "        element.appendChild(docLink);\n",
              "      }\n",
              "    </script>\n",
              "  </div>\n",
              "\n",
              "\n",
              "<div id=\"df-4580224c-62a4-43e9-88fc-8a932f82bd5c\">\n",
              "  <button class=\"colab-df-quickchart\" onclick=\"quickchart('df-4580224c-62a4-43e9-88fc-8a932f82bd5c')\"\n",
              "            title=\"Suggest charts\"\n",
              "            style=\"display:none;\">\n",
              "\n",
              "<svg xmlns=\"http://www.w3.org/2000/svg\" height=\"24px\"viewBox=\"0 0 24 24\"\n",
              "     width=\"24px\">\n",
              "    <g>\n",
              "        <path d=\"M19 3H5c-1.1 0-2 .9-2 2v14c0 1.1.9 2 2 2h14c1.1 0 2-.9 2-2V5c0-1.1-.9-2-2-2zM9 17H7v-7h2v7zm4 0h-2V7h2v10zm4 0h-2v-4h2v4z\"/>\n",
              "    </g>\n",
              "</svg>\n",
              "  </button>\n",
              "\n",
              "<style>\n",
              "  .colab-df-quickchart {\n",
              "      --bg-color: #E8F0FE;\n",
              "      --fill-color: #1967D2;\n",
              "      --hover-bg-color: #E2EBFA;\n",
              "      --hover-fill-color: #174EA6;\n",
              "      --disabled-fill-color: #AAA;\n",
              "      --disabled-bg-color: #DDD;\n",
              "  }\n",
              "\n",
              "  [theme=dark] .colab-df-quickchart {\n",
              "      --bg-color: #3B4455;\n",
              "      --fill-color: #D2E3FC;\n",
              "      --hover-bg-color: #434B5C;\n",
              "      --hover-fill-color: #FFFFFF;\n",
              "      --disabled-bg-color: #3B4455;\n",
              "      --disabled-fill-color: #666;\n",
              "  }\n",
              "\n",
              "  .colab-df-quickchart {\n",
              "    background-color: var(--bg-color);\n",
              "    border: none;\n",
              "    border-radius: 50%;\n",
              "    cursor: pointer;\n",
              "    display: none;\n",
              "    fill: var(--fill-color);\n",
              "    height: 32px;\n",
              "    padding: 0;\n",
              "    width: 32px;\n",
              "  }\n",
              "\n",
              "  .colab-df-quickchart:hover {\n",
              "    background-color: var(--hover-bg-color);\n",
              "    box-shadow: 0 1px 2px rgba(60, 64, 67, 0.3), 0 1px 3px 1px rgba(60, 64, 67, 0.15);\n",
              "    fill: var(--button-hover-fill-color);\n",
              "  }\n",
              "\n",
              "  .colab-df-quickchart-complete:disabled,\n",
              "  .colab-df-quickchart-complete:disabled:hover {\n",
              "    background-color: var(--disabled-bg-color);\n",
              "    fill: var(--disabled-fill-color);\n",
              "    box-shadow: none;\n",
              "  }\n",
              "\n",
              "  .colab-df-spinner {\n",
              "    border: 2px solid var(--fill-color);\n",
              "    border-color: transparent;\n",
              "    border-bottom-color: var(--fill-color);\n",
              "    animation:\n",
              "      spin 1s steps(1) infinite;\n",
              "  }\n",
              "\n",
              "  @keyframes spin {\n",
              "    0% {\n",
              "      border-color: transparent;\n",
              "      border-bottom-color: var(--fill-color);\n",
              "      border-left-color: var(--fill-color);\n",
              "    }\n",
              "    20% {\n",
              "      border-color: transparent;\n",
              "      border-left-color: var(--fill-color);\n",
              "      border-top-color: var(--fill-color);\n",
              "    }\n",
              "    30% {\n",
              "      border-color: transparent;\n",
              "      border-left-color: var(--fill-color);\n",
              "      border-top-color: var(--fill-color);\n",
              "      border-right-color: var(--fill-color);\n",
              "    }\n",
              "    40% {\n",
              "      border-color: transparent;\n",
              "      border-right-color: var(--fill-color);\n",
              "      border-top-color: var(--fill-color);\n",
              "    }\n",
              "    60% {\n",
              "      border-color: transparent;\n",
              "      border-right-color: var(--fill-color);\n",
              "    }\n",
              "    80% {\n",
              "      border-color: transparent;\n",
              "      border-right-color: var(--fill-color);\n",
              "      border-bottom-color: var(--fill-color);\n",
              "    }\n",
              "    90% {\n",
              "      border-color: transparent;\n",
              "      border-bottom-color: var(--fill-color);\n",
              "    }\n",
              "  }\n",
              "</style>\n",
              "\n",
              "  <script>\n",
              "    async function quickchart(key) {\n",
              "      const quickchartButtonEl =\n",
              "        document.querySelector('#' + key + ' button');\n",
              "      quickchartButtonEl.disabled = true;  // To prevent multiple clicks.\n",
              "      quickchartButtonEl.classList.add('colab-df-spinner');\n",
              "      try {\n",
              "        const charts = await google.colab.kernel.invokeFunction(\n",
              "            'suggestCharts', [key], {});\n",
              "      } catch (error) {\n",
              "        console.error('Error during call to suggestCharts:', error);\n",
              "      }\n",
              "      quickchartButtonEl.classList.remove('colab-df-spinner');\n",
              "      quickchartButtonEl.classList.add('colab-df-quickchart-complete');\n",
              "    }\n",
              "    (() => {\n",
              "      let quickchartButtonEl =\n",
              "        document.querySelector('#df-4580224c-62a4-43e9-88fc-8a932f82bd5c button');\n",
              "      quickchartButtonEl.style.display =\n",
              "        google.colab.kernel.accessAllowed ? 'block' : 'none';\n",
              "    })();\n",
              "  </script>\n",
              "</div>\n",
              "\n",
              "    </div>\n",
              "  </div>\n"
            ],
            "application/vnd.google.colaboratory.intrinsic+json": {
              "type": "dataframe",
              "variable_name": "df",
              "summary": "{\n  \"name\": \"df\",\n  \"rows\": 1481,\n  \"fields\": [\n    {\n      \"column\": \"id\",\n      \"properties\": {\n        \"dtype\": \"number\",\n        \"std\": 2843121235301126,\n        \"min\": 521014255852986369,\n        \"max\": 615595240179822593,\n        \"num_unique_values\": 1481,\n        \"samples\": [\n          611466186677723136,\n          611206696371908608,\n          613285031696576512\n        ],\n        \"semantic_type\": \"\",\n        \"description\": \"\"\n      }\n    },\n    {\n      \"column\": \"text\",\n      \"properties\": {\n        \"dtype\": \"string\",\n        \"num_unique_values\": 1454,\n        \"samples\": [\n          \"What a bustling wind'r blowing in this amzing painting. Your senses almost feel the sea air @NationalGallery #paint https://t.co/7sbeiDnyvq\",\n          \"Ancient beauty and modern lives http://t.co/x3ua24FUyJ via @britishmuseum\",\n          \"@britishmuseum Is he holding an orange? Someone had better watch out!\"\n        ],\n        \"semantic_type\": \"\",\n        \"description\": \"\"\n      }\n    },\n    {\n      \"column\": \"category\",\n      \"properties\": {\n        \"dtype\": \"category\",\n        \"num_unique_values\": 6,\n        \"samples\": [\n          \"happy\",\n          \"not-relevant\",\n          \"surprise\"\n        ],\n        \"semantic_type\": \"\",\n        \"description\": \"\"\n      }\n    },\n    {\n      \"column\": \"label\",\n      \"properties\": {\n        \"dtype\": \"number\",\n        \"std\": 1,\n        \"min\": 0,\n        \"max\": 5,\n        \"num_unique_values\": 6,\n        \"samples\": [\n          0,\n          1,\n          5\n        ],\n        \"semantic_type\": \"\",\n        \"description\": \"\"\n      }\n    }\n  ]\n}"
            }
          },
          "metadata": {},
          "execution_count": 10
        }
      ]
    },
    {
      "cell_type": "markdown",
      "source": [
        "# Training and Testing Split"
      ],
      "metadata": {
        "id": "W6yUW6j8BeSZ"
      }
    },
    {
      "cell_type": "code",
      "source": [
        "from sklearn.model_selection import train_test_split\n"
      ],
      "metadata": {
        "id": "TtrwTQWeBZwr"
      },
      "execution_count": 11,
      "outputs": []
    },
    {
      "cell_type": "code",
      "source": [
        "df.index.values"
      ],
      "metadata": {
        "colab": {
          "base_uri": "https://localhost:8080/"
        },
        "id": "Wt4bHY_kB1yZ",
        "outputId": "273f72a4-c3f8-4030-99ca-2611ef5ff62e"
      },
      "execution_count": 12,
      "outputs": [
        {
          "output_type": "execute_result",
          "data": {
            "text/plain": [
              "array([614484565059596288, 614746522043973632, 614877582664835073, ...,\n",
              "       613678555935973376, 615246897670922240, 613016084371914753])"
            ]
          },
          "metadata": {},
          "execution_count": 12
        }
      ]
    },
    {
      "cell_type": "code",
      "source": [
        "df.label.values"
      ],
      "metadata": {
        "colab": {
          "base_uri": "https://localhost:8080/"
        },
        "id": "ZRThr_grCB4w",
        "outputId": "9ade07b3-da72-476c-99ce-efa7ff66ca28"
      },
      "execution_count": 13,
      "outputs": [
        {
          "output_type": "execute_result",
          "data": {
            "text/plain": [
              "array([0, 0, 0, ..., 0, 0, 1])"
            ]
          },
          "metadata": {},
          "execution_count": 13
        }
      ]
    },
    {
      "cell_type": "code",
      "source": [
        "X_train, X_test, y_train, y_test = train_test_split(df.index.values,\n",
        "                                                    df.label.values,\n",
        "                                                    test_size = 0.2,\n",
        "                                                    random_state = 42)"
      ],
      "metadata": {
        "id": "nSmxEUBbBnUQ"
      },
      "execution_count": 14,
      "outputs": []
    },
    {
      "cell_type": "code",
      "source": [
        "X_train, y_train"
      ],
      "metadata": {
        "colab": {
          "base_uri": "https://localhost:8080/"
        },
        "id": "8pjXP8RkCMa0",
        "outputId": "4648e646-289a-44a3-b033-3c584903e470"
      },
      "execution_count": 16,
      "outputs": [
        {
          "output_type": "execute_result",
          "data": {
            "text/plain": [
              "(array([611922717428813825, 612664104013176832, 615466078441996288, ...,\n",
              "        610382402976919552, 613772240786718720, 608587511925993472]),\n",
              " array([0, 0, 0, ..., 1, 1, 5]))"
            ]
          },
          "metadata": {},
          "execution_count": 16
        }
      ]
    },
    {
      "cell_type": "code",
      "source": [
        "df['data_type'] = ['not_set'] * df.shape[0]\n",
        "df.head()"
      ],
      "metadata": {
        "colab": {
          "base_uri": "https://localhost:8080/",
          "height": 238
        },
        "id": "jICv2RWgCORo",
        "outputId": "f79d2171-dd67-4e5a-a08f-b84fd36e4808"
      },
      "execution_count": 17,
      "outputs": [
        {
          "output_type": "execute_result",
          "data": {
            "text/plain": [
              "                                                                 text  \\\n",
              "id                                                                      \n",
              "614484565059596288  Dorian Gray with Rainbow Scarf #LoveWins (from...   \n",
              "614746522043973632  @SelectShowcase @Tate_StIves ... Replace with ...   \n",
              "614877582664835073  @Sofabsports thank you for following me back. ...   \n",
              "611932373039644672  @britishmuseum @TudorHistory What a beautiful ...   \n",
              "611570404268883969  @NationalGallery @ThePoldarkian I have always ...   \n",
              "\n",
              "                   category  label data_type  \n",
              "id                                            \n",
              "614484565059596288    happy      0   not_set  \n",
              "614746522043973632    happy      0   not_set  \n",
              "614877582664835073    happy      0   not_set  \n",
              "611932373039644672    happy      0   not_set  \n",
              "611570404268883969    happy      0   not_set  "
            ],
            "text/html": [
              "\n",
              "  <div id=\"df-47442cc6-6bfe-482a-91e6-c1c62ccffa93\" class=\"colab-df-container\">\n",
              "    <div>\n",
              "<style scoped>\n",
              "    .dataframe tbody tr th:only-of-type {\n",
              "        vertical-align: middle;\n",
              "    }\n",
              "\n",
              "    .dataframe tbody tr th {\n",
              "        vertical-align: top;\n",
              "    }\n",
              "\n",
              "    .dataframe thead th {\n",
              "        text-align: right;\n",
              "    }\n",
              "</style>\n",
              "<table border=\"1\" class=\"dataframe\">\n",
              "  <thead>\n",
              "    <tr style=\"text-align: right;\">\n",
              "      <th></th>\n",
              "      <th>text</th>\n",
              "      <th>category</th>\n",
              "      <th>label</th>\n",
              "      <th>data_type</th>\n",
              "    </tr>\n",
              "    <tr>\n",
              "      <th>id</th>\n",
              "      <th></th>\n",
              "      <th></th>\n",
              "      <th></th>\n",
              "      <th></th>\n",
              "    </tr>\n",
              "  </thead>\n",
              "  <tbody>\n",
              "    <tr>\n",
              "      <th>614484565059596288</th>\n",
              "      <td>Dorian Gray with Rainbow Scarf #LoveWins (from...</td>\n",
              "      <td>happy</td>\n",
              "      <td>0</td>\n",
              "      <td>not_set</td>\n",
              "    </tr>\n",
              "    <tr>\n",
              "      <th>614746522043973632</th>\n",
              "      <td>@SelectShowcase @Tate_StIves ... Replace with ...</td>\n",
              "      <td>happy</td>\n",
              "      <td>0</td>\n",
              "      <td>not_set</td>\n",
              "    </tr>\n",
              "    <tr>\n",
              "      <th>614877582664835073</th>\n",
              "      <td>@Sofabsports thank you for following me back. ...</td>\n",
              "      <td>happy</td>\n",
              "      <td>0</td>\n",
              "      <td>not_set</td>\n",
              "    </tr>\n",
              "    <tr>\n",
              "      <th>611932373039644672</th>\n",
              "      <td>@britishmuseum @TudorHistory What a beautiful ...</td>\n",
              "      <td>happy</td>\n",
              "      <td>0</td>\n",
              "      <td>not_set</td>\n",
              "    </tr>\n",
              "    <tr>\n",
              "      <th>611570404268883969</th>\n",
              "      <td>@NationalGallery @ThePoldarkian I have always ...</td>\n",
              "      <td>happy</td>\n",
              "      <td>0</td>\n",
              "      <td>not_set</td>\n",
              "    </tr>\n",
              "  </tbody>\n",
              "</table>\n",
              "</div>\n",
              "    <div class=\"colab-df-buttons\">\n",
              "\n",
              "  <div class=\"colab-df-container\">\n",
              "    <button class=\"colab-df-convert\" onclick=\"convertToInteractive('df-47442cc6-6bfe-482a-91e6-c1c62ccffa93')\"\n",
              "            title=\"Convert this dataframe to an interactive table.\"\n",
              "            style=\"display:none;\">\n",
              "\n",
              "  <svg xmlns=\"http://www.w3.org/2000/svg\" height=\"24px\" viewBox=\"0 -960 960 960\">\n",
              "    <path d=\"M120-120v-720h720v720H120Zm60-500h600v-160H180v160Zm220 220h160v-160H400v160Zm0 220h160v-160H400v160ZM180-400h160v-160H180v160Zm440 0h160v-160H620v160ZM180-180h160v-160H180v160Zm440 0h160v-160H620v160Z\"/>\n",
              "  </svg>\n",
              "    </button>\n",
              "\n",
              "  <style>\n",
              "    .colab-df-container {\n",
              "      display:flex;\n",
              "      gap: 12px;\n",
              "    }\n",
              "\n",
              "    .colab-df-convert {\n",
              "      background-color: #E8F0FE;\n",
              "      border: none;\n",
              "      border-radius: 50%;\n",
              "      cursor: pointer;\n",
              "      display: none;\n",
              "      fill: #1967D2;\n",
              "      height: 32px;\n",
              "      padding: 0 0 0 0;\n",
              "      width: 32px;\n",
              "    }\n",
              "\n",
              "    .colab-df-convert:hover {\n",
              "      background-color: #E2EBFA;\n",
              "      box-shadow: 0px 1px 2px rgba(60, 64, 67, 0.3), 0px 1px 3px 1px rgba(60, 64, 67, 0.15);\n",
              "      fill: #174EA6;\n",
              "    }\n",
              "\n",
              "    .colab-df-buttons div {\n",
              "      margin-bottom: 4px;\n",
              "    }\n",
              "\n",
              "    [theme=dark] .colab-df-convert {\n",
              "      background-color: #3B4455;\n",
              "      fill: #D2E3FC;\n",
              "    }\n",
              "\n",
              "    [theme=dark] .colab-df-convert:hover {\n",
              "      background-color: #434B5C;\n",
              "      box-shadow: 0px 1px 3px 1px rgba(0, 0, 0, 0.15);\n",
              "      filter: drop-shadow(0px 1px 2px rgba(0, 0, 0, 0.3));\n",
              "      fill: #FFFFFF;\n",
              "    }\n",
              "  </style>\n",
              "\n",
              "    <script>\n",
              "      const buttonEl =\n",
              "        document.querySelector('#df-47442cc6-6bfe-482a-91e6-c1c62ccffa93 button.colab-df-convert');\n",
              "      buttonEl.style.display =\n",
              "        google.colab.kernel.accessAllowed ? 'block' : 'none';\n",
              "\n",
              "      async function convertToInteractive(key) {\n",
              "        const element = document.querySelector('#df-47442cc6-6bfe-482a-91e6-c1c62ccffa93');\n",
              "        const dataTable =\n",
              "          await google.colab.kernel.invokeFunction('convertToInteractive',\n",
              "                                                    [key], {});\n",
              "        if (!dataTable) return;\n",
              "\n",
              "        const docLinkHtml = 'Like what you see? Visit the ' +\n",
              "          '<a target=\"_blank\" href=https://colab.research.google.com/notebooks/data_table.ipynb>data table notebook</a>'\n",
              "          + ' to learn more about interactive tables.';\n",
              "        element.innerHTML = '';\n",
              "        dataTable['output_type'] = 'display_data';\n",
              "        await google.colab.output.renderOutput(dataTable, element);\n",
              "        const docLink = document.createElement('div');\n",
              "        docLink.innerHTML = docLinkHtml;\n",
              "        element.appendChild(docLink);\n",
              "      }\n",
              "    </script>\n",
              "  </div>\n",
              "\n",
              "\n",
              "<div id=\"df-a1bf6bff-d173-4c47-bac4-b4828ad24b1a\">\n",
              "  <button class=\"colab-df-quickchart\" onclick=\"quickchart('df-a1bf6bff-d173-4c47-bac4-b4828ad24b1a')\"\n",
              "            title=\"Suggest charts\"\n",
              "            style=\"display:none;\">\n",
              "\n",
              "<svg xmlns=\"http://www.w3.org/2000/svg\" height=\"24px\"viewBox=\"0 0 24 24\"\n",
              "     width=\"24px\">\n",
              "    <g>\n",
              "        <path d=\"M19 3H5c-1.1 0-2 .9-2 2v14c0 1.1.9 2 2 2h14c1.1 0 2-.9 2-2V5c0-1.1-.9-2-2-2zM9 17H7v-7h2v7zm4 0h-2V7h2v10zm4 0h-2v-4h2v4z\"/>\n",
              "    </g>\n",
              "</svg>\n",
              "  </button>\n",
              "\n",
              "<style>\n",
              "  .colab-df-quickchart {\n",
              "      --bg-color: #E8F0FE;\n",
              "      --fill-color: #1967D2;\n",
              "      --hover-bg-color: #E2EBFA;\n",
              "      --hover-fill-color: #174EA6;\n",
              "      --disabled-fill-color: #AAA;\n",
              "      --disabled-bg-color: #DDD;\n",
              "  }\n",
              "\n",
              "  [theme=dark] .colab-df-quickchart {\n",
              "      --bg-color: #3B4455;\n",
              "      --fill-color: #D2E3FC;\n",
              "      --hover-bg-color: #434B5C;\n",
              "      --hover-fill-color: #FFFFFF;\n",
              "      --disabled-bg-color: #3B4455;\n",
              "      --disabled-fill-color: #666;\n",
              "  }\n",
              "\n",
              "  .colab-df-quickchart {\n",
              "    background-color: var(--bg-color);\n",
              "    border: none;\n",
              "    border-radius: 50%;\n",
              "    cursor: pointer;\n",
              "    display: none;\n",
              "    fill: var(--fill-color);\n",
              "    height: 32px;\n",
              "    padding: 0;\n",
              "    width: 32px;\n",
              "  }\n",
              "\n",
              "  .colab-df-quickchart:hover {\n",
              "    background-color: var(--hover-bg-color);\n",
              "    box-shadow: 0 1px 2px rgba(60, 64, 67, 0.3), 0 1px 3px 1px rgba(60, 64, 67, 0.15);\n",
              "    fill: var(--button-hover-fill-color);\n",
              "  }\n",
              "\n",
              "  .colab-df-quickchart-complete:disabled,\n",
              "  .colab-df-quickchart-complete:disabled:hover {\n",
              "    background-color: var(--disabled-bg-color);\n",
              "    fill: var(--disabled-fill-color);\n",
              "    box-shadow: none;\n",
              "  }\n",
              "\n",
              "  .colab-df-spinner {\n",
              "    border: 2px solid var(--fill-color);\n",
              "    border-color: transparent;\n",
              "    border-bottom-color: var(--fill-color);\n",
              "    animation:\n",
              "      spin 1s steps(1) infinite;\n",
              "  }\n",
              "\n",
              "  @keyframes spin {\n",
              "    0% {\n",
              "      border-color: transparent;\n",
              "      border-bottom-color: var(--fill-color);\n",
              "      border-left-color: var(--fill-color);\n",
              "    }\n",
              "    20% {\n",
              "      border-color: transparent;\n",
              "      border-left-color: var(--fill-color);\n",
              "      border-top-color: var(--fill-color);\n",
              "    }\n",
              "    30% {\n",
              "      border-color: transparent;\n",
              "      border-left-color: var(--fill-color);\n",
              "      border-top-color: var(--fill-color);\n",
              "      border-right-color: var(--fill-color);\n",
              "    }\n",
              "    40% {\n",
              "      border-color: transparent;\n",
              "      border-right-color: var(--fill-color);\n",
              "      border-top-color: var(--fill-color);\n",
              "    }\n",
              "    60% {\n",
              "      border-color: transparent;\n",
              "      border-right-color: var(--fill-color);\n",
              "    }\n",
              "    80% {\n",
              "      border-color: transparent;\n",
              "      border-right-color: var(--fill-color);\n",
              "      border-bottom-color: var(--fill-color);\n",
              "    }\n",
              "    90% {\n",
              "      border-color: transparent;\n",
              "      border-bottom-color: var(--fill-color);\n",
              "    }\n",
              "  }\n",
              "</style>\n",
              "\n",
              "  <script>\n",
              "    async function quickchart(key) {\n",
              "      const quickchartButtonEl =\n",
              "        document.querySelector('#' + key + ' button');\n",
              "      quickchartButtonEl.disabled = true;  // To prevent multiple clicks.\n",
              "      quickchartButtonEl.classList.add('colab-df-spinner');\n",
              "      try {\n",
              "        const charts = await google.colab.kernel.invokeFunction(\n",
              "            'suggestCharts', [key], {});\n",
              "      } catch (error) {\n",
              "        console.error('Error during call to suggestCharts:', error);\n",
              "      }\n",
              "      quickchartButtonEl.classList.remove('colab-df-spinner');\n",
              "      quickchartButtonEl.classList.add('colab-df-quickchart-complete');\n",
              "    }\n",
              "    (() => {\n",
              "      let quickchartButtonEl =\n",
              "        document.querySelector('#df-a1bf6bff-d173-4c47-bac4-b4828ad24b1a button');\n",
              "      quickchartButtonEl.style.display =\n",
              "        google.colab.kernel.accessAllowed ? 'block' : 'none';\n",
              "    })();\n",
              "  </script>\n",
              "</div>\n",
              "\n",
              "    </div>\n",
              "  </div>\n"
            ],
            "application/vnd.google.colaboratory.intrinsic+json": {
              "type": "dataframe",
              "variable_name": "df",
              "summary": "{\n  \"name\": \"df\",\n  \"rows\": 1481,\n  \"fields\": [\n    {\n      \"column\": \"id\",\n      \"properties\": {\n        \"dtype\": \"number\",\n        \"std\": 2843121235301126,\n        \"min\": 521014255852986369,\n        \"max\": 615595240179822593,\n        \"num_unique_values\": 1481,\n        \"samples\": [\n          611466186677723136,\n          611206696371908608,\n          613285031696576512\n        ],\n        \"semantic_type\": \"\",\n        \"description\": \"\"\n      }\n    },\n    {\n      \"column\": \"text\",\n      \"properties\": {\n        \"dtype\": \"string\",\n        \"num_unique_values\": 1454,\n        \"samples\": [\n          \"What a bustling wind'r blowing in this amzing painting. Your senses almost feel the sea air @NationalGallery #paint https://t.co/7sbeiDnyvq\",\n          \"Ancient beauty and modern lives http://t.co/x3ua24FUyJ via @britishmuseum\",\n          \"@britishmuseum Is he holding an orange? Someone had better watch out!\"\n        ],\n        \"semantic_type\": \"\",\n        \"description\": \"\"\n      }\n    },\n    {\n      \"column\": \"category\",\n      \"properties\": {\n        \"dtype\": \"category\",\n        \"num_unique_values\": 6,\n        \"samples\": [\n          \"happy\",\n          \"not-relevant\",\n          \"surprise\"\n        ],\n        \"semantic_type\": \"\",\n        \"description\": \"\"\n      }\n    },\n    {\n      \"column\": \"label\",\n      \"properties\": {\n        \"dtype\": \"number\",\n        \"std\": 1,\n        \"min\": 0,\n        \"max\": 5,\n        \"num_unique_values\": 6,\n        \"samples\": [\n          0,\n          1,\n          5\n        ],\n        \"semantic_type\": \"\",\n        \"description\": \"\"\n      }\n    },\n    {\n      \"column\": \"data_type\",\n      \"properties\": {\n        \"dtype\": \"category\",\n        \"num_unique_values\": 1,\n        \"samples\": [\n          \"not_set\"\n        ],\n        \"semantic_type\": \"\",\n        \"description\": \"\"\n      }\n    }\n  ]\n}"
            }
          },
          "metadata": {},
          "execution_count": 17
        }
      ]
    },
    {
      "cell_type": "code",
      "source": [
        "df.loc[X_train, 'data_type'] = 'train'\n",
        "df.loc[X_test, 'data_type'] = 'test'\n",
        "df.data_type.value_counts()"
      ],
      "metadata": {
        "colab": {
          "base_uri": "https://localhost:8080/"
        },
        "id": "pYlzTTtzCtmn",
        "outputId": "f766f6b8-8d04-4323-c186-de15e88255ed"
      },
      "execution_count": 21,
      "outputs": [
        {
          "output_type": "execute_result",
          "data": {
            "text/plain": [
              "data_type\n",
              "train    1184\n",
              "test      297\n",
              "Name: count, dtype: int64"
            ]
          },
          "metadata": {},
          "execution_count": 21
        }
      ]
    },
    {
      "cell_type": "markdown",
      "source": [
        "# Loading Tokenizer and Encoding data"
      ],
      "metadata": {
        "id": "0XlGelRYDNMh"
      }
    },
    {
      "cell_type": "code",
      "source": [
        "from transformers import BertTokenizer\n",
        "from torch.utils.data import TensorDataset\n"
      ],
      "metadata": {
        "id": "ixECC_1pDW7j"
      },
      "execution_count": 22,
      "outputs": []
    },
    {
      "cell_type": "code",
      "source": [
        "tokenizer = BertTokenizer.from_pretrained('bert-base-uncased', do_lower_case=True)"
      ],
      "metadata": {
        "colab": {
          "base_uri": "https://localhost:8080/",
          "height": 200,
          "referenced_widgets": [
            "26994a2dd06e44f292b1edceff197f19",
            "595d10caa4c84303a5d630dc099aafe1",
            "1712388e0e2d43c89bb61795798c1bed",
            "cba73d3466ab4af298e384c3b9408850",
            "9e20dc89bd264256a20b0db325fefcdb",
            "7909a4cbcd7e4b47bb3fb8fb7a3958a6",
            "b3829f7cfd084583911b710bada1325d",
            "f44f5393e2094849b78ddc0ff66d74ea",
            "e34ff7bb1e4747a8857deacff8e44d4f",
            "33c033ee8d774cbc8103cbcb380ecc0d",
            "d4005a924ffd44298fdfa5a8134edbd2",
            "828dfb111b0741749d18d9c86370ddae",
            "458abacff5124480b730c912d62d6a43",
            "6c65523ca8b34a839c8ba008e4e08f58",
            "5cc707844dc54aeb85bb228fb7197e77",
            "52a3593f4d094613bbc9d2ece336c4c6",
            "b3d62621e61c4d6781c68b1e04a58546",
            "b3d7ba9148fc4fe681d3fa09b4a60845",
            "e42cc23037f44dc1b48f970058263940",
            "12ec4277562f4607bf6041d9bbb9b0e2",
            "6fed021c33b446d3999c85b2e091c62d",
            "c2fde3c14d5f4cb49ddd1b484d74159c",
            "6638279bc8604fe8ab429f371d699edd",
            "f10ce51681794e5285fa709a0ae0a6ed",
            "d58dd7f1440142008c355e60cf2bd785",
            "bf194ad2115f453cb6e5304958e320cd",
            "d0500f13e94944d3ad7b08027fa30c49",
            "30dffd08c74148e493ceeab878596b3c",
            "4dfc352e2e874a25b9c900cf39ab7624",
            "2feea8d8a76d49be8b32961f2d7a2d02",
            "097e209af9ca49c09f66a825388f2c64",
            "444501508f824a458635bff5d3d9b79d",
            "6018dafc77f04e31a5efa0d265b84a47",
            "9e0c1304df464673bb0becd37b15bf89",
            "143c0661dcf54d1480e178a05b43d6d2",
            "dc43005a9e79409cbecddc4036cf6072",
            "15826cdedaa7460d91cef492ce8de358",
            "ef29891bf56d4db298a3c6b1819b2daf",
            "aeaa7e6cc2c54e849d7408f82e33d1b1",
            "5d5f829a0fc54407bd95d861a03c5a55",
            "fc85c2e71a7b485dba7ace0e91a47226",
            "30f934f21b384f44aeedbdf1cab4db5b",
            "4afe7bad133b47ae8e13e50b40f6db71",
            "a725090f47e14a7a93b37d40c0c99c68"
          ]
        },
        "id": "EQelmjd0DZHn",
        "outputId": "8f325fba-d328-404d-b819-fbfd26dda5af"
      },
      "execution_count": 23,
      "outputs": [
        {
          "output_type": "display_data",
          "data": {
            "text/plain": [
              "tokenizer_config.json:   0%|          | 0.00/48.0 [00:00<?, ?B/s]"
            ],
            "application/vnd.jupyter.widget-view+json": {
              "version_major": 2,
              "version_minor": 0,
              "model_id": "26994a2dd06e44f292b1edceff197f19"
            }
          },
          "metadata": {}
        },
        {
          "output_type": "display_data",
          "data": {
            "text/plain": [
              "vocab.txt:   0%|          | 0.00/232k [00:00<?, ?B/s]"
            ],
            "application/vnd.jupyter.widget-view+json": {
              "version_major": 2,
              "version_minor": 0,
              "model_id": "828dfb111b0741749d18d9c86370ddae"
            }
          },
          "metadata": {}
        },
        {
          "output_type": "display_data",
          "data": {
            "text/plain": [
              "tokenizer.json:   0%|          | 0.00/466k [00:00<?, ?B/s]"
            ],
            "application/vnd.jupyter.widget-view+json": {
              "version_major": 2,
              "version_minor": 0,
              "model_id": "6638279bc8604fe8ab429f371d699edd"
            }
          },
          "metadata": {}
        },
        {
          "output_type": "stream",
          "name": "stderr",
          "text": [
            "/usr/local/lib/python3.10/dist-packages/huggingface_hub/file_download.py:1132: FutureWarning: `resume_download` is deprecated and will be removed in version 1.0.0. Downloads always resume when possible. If you want to force a new download, use `force_download=True`.\n",
            "  warnings.warn(\n"
          ]
        },
        {
          "output_type": "display_data",
          "data": {
            "text/plain": [
              "config.json:   0%|          | 0.00/570 [00:00<?, ?B/s]"
            ],
            "application/vnd.jupyter.widget-view+json": {
              "version_major": 2,
              "version_minor": 0,
              "model_id": "9e0c1304df464673bb0becd37b15bf89"
            }
          },
          "metadata": {}
        }
      ]
    },
    {
      "cell_type": "code",
      "source": [
        "# Encode the training data\n",
        "\n",
        "encoded_train_data = tokenizer.batch_encode_plus(\n",
        "    df[df.data_type == 'train'].text.values,\n",
        "    add_special_tokens=True,\n",
        "    return_attention_mask=True,\n",
        "    pad_to_max_length = True,\n",
        "    max_length = 256,\n",
        "    return_tensors = 'pt'\n",
        ")"
      ],
      "metadata": {
        "colab": {
          "base_uri": "https://localhost:8080/"
        },
        "id": "dLJB0G5zDiwc",
        "outputId": "88b63c7a-006f-45e2-8e81-5e70594d3c1a"
      },
      "execution_count": 24,
      "outputs": [
        {
          "output_type": "stream",
          "name": "stderr",
          "text": [
            "Truncation was not explicitly activated but `max_length` is provided a specific value, please use `truncation=True` to explicitly truncate examples to max length. Defaulting to 'longest_first' truncation strategy. If you encode pairs of sequences (GLUE-style) with the tokenizer you can select this strategy more precisely by providing a specific strategy to `truncation`.\n",
            "/usr/local/lib/python3.10/dist-packages/transformers/tokenization_utils_base.py:2699: FutureWarning: The `pad_to_max_length` argument is deprecated and will be removed in a future version, use `padding=True` or `padding='longest'` to pad to the longest sequence in the batch, or use `padding='max_length'` to pad to a max length. In this case, you can give a specific length with `max_length` (e.g. `max_length=45`) or leave max_length to None to pad to the maximal input size of the model (e.g. 512 for Bert).\n",
            "  warnings.warn(\n"
          ]
        }
      ]
    },
    {
      "cell_type": "code",
      "source": [
        "encoded_data_val = tokenizer.batch_encode_plus(\n",
        "    df[df.data_type == 'test'].text.values,\n",
        "    add_special_tokens = True,\n",
        "    return_attention_mask = True,\n",
        "    pad_to_max_length = True,\n",
        "    max_length = 256,\n",
        "    return_tensors = 'pt'\n",
        ")"
      ],
      "metadata": {
        "colab": {
          "base_uri": "https://localhost:8080/"
        },
        "id": "yXHu9Ze8EI2J",
        "outputId": "a8478bf9-498c-4e74-9698-e95867d016b3"
      },
      "execution_count": 27,
      "outputs": [
        {
          "output_type": "stream",
          "name": "stderr",
          "text": [
            "/usr/local/lib/python3.10/dist-packages/transformers/tokenization_utils_base.py:2699: FutureWarning: The `pad_to_max_length` argument is deprecated and will be removed in a future version, use `padding=True` or `padding='longest'` to pad to the longest sequence in the batch, or use `padding='max_length'` to pad to a max length. In this case, you can give a specific length with `max_length` (e.g. `max_length=45`) or leave max_length to None to pad to the maximal input size of the model (e.g. 512 for Bert).\n",
            "  warnings.warn(\n"
          ]
        }
      ]
    },
    {
      "cell_type": "code",
      "source": [
        "encoded_train_data.keys()"
      ],
      "metadata": {
        "colab": {
          "base_uri": "https://localhost:8080/"
        },
        "id": "9tG000_yFCIi",
        "outputId": "4986e3a2-cc22-401a-cfed-9f11c724cf7e"
      },
      "execution_count": 29,
      "outputs": [
        {
          "output_type": "execute_result",
          "data": {
            "text/plain": [
              "dict_keys(['input_ids', 'token_type_ids', 'attention_mask'])"
            ]
          },
          "metadata": {},
          "execution_count": 29
        }
      ]
    },
    {
      "cell_type": "code",
      "source": [
        "input_ids_train = encoded_train_data['input_ids']\n",
        "attention_masks_train = encoded_train_data['attention_mask']\n",
        "labels_train = torch.tensor(df[df.data_type == 'train'].label.values)"
      ],
      "metadata": {
        "id": "McgPV50yEu1h"
      },
      "execution_count": 31,
      "outputs": []
    },
    {
      "cell_type": "code",
      "source": [
        "input_ids_test = encoded_data_val['input_ids']\n",
        "attention_masks_test = encoded_data_val['attention_mask']\n",
        "labels_test = torch.tensor(df[df.data_type == 'test'].label.values)"
      ],
      "metadata": {
        "id": "RIeIDvxFFQ0B"
      },
      "execution_count": 32,
      "outputs": []
    },
    {
      "cell_type": "code",
      "source": [
        "# Creating TensorDataset\n",
        "\n",
        "dataset_train = TensorDataset(input_ids_train, attention_masks_train, labels_train)\n",
        "dataset_test = TensorDataset(input_ids_test, attention_masks_test, labels_test)"
      ],
      "metadata": {
        "id": "MEGUl8gmFvMx"
      },
      "execution_count": 33,
      "outputs": []
    },
    {
      "cell_type": "code",
      "source": [
        "dataset_train.tensors"
      ],
      "metadata": {
        "colab": {
          "base_uri": "https://localhost:8080/"
        },
        "id": "On0hWSmVGK9h",
        "outputId": "9b9b251e-e92d-45fd-b7ad-c6f12a0f35a0"
      },
      "execution_count": 37,
      "outputs": [
        {
          "output_type": "execute_result",
          "data": {
            "text/plain": [
              "(tensor([[  101, 16092,  3897,  ...,     0,     0,     0],\n",
              "         [  101,  1030, 27034,  ...,     0,     0,     0],\n",
              "         [  101,  1030, 10682,  ...,     0,     0,     0],\n",
              "         ...,\n",
              "         [  101, 11047,  1030,  ...,     0,     0,     0],\n",
              "         [  101,  1030,  3680,  ...,     0,     0,     0],\n",
              "         [  101,  1030,  2120,  ...,     0,     0,     0]]),\n",
              " tensor([[1, 1, 1,  ..., 0, 0, 0],\n",
              "         [1, 1, 1,  ..., 0, 0, 0],\n",
              "         [1, 1, 1,  ..., 0, 0, 0],\n",
              "         ...,\n",
              "         [1, 1, 1,  ..., 0, 0, 0],\n",
              "         [1, 1, 1,  ..., 0, 0, 0],\n",
              "         [1, 1, 1,  ..., 0, 0, 0]]),\n",
              " tensor([0, 0, 0,  ..., 0, 0, 1]))"
            ]
          },
          "metadata": {},
          "execution_count": 37
        }
      ]
    },
    {
      "cell_type": "code",
      "source": [
        "len(dataset_train)"
      ],
      "metadata": {
        "colab": {
          "base_uri": "https://localhost:8080/"
        },
        "id": "TuTzlAjNGF4Q",
        "outputId": "4c430d89-f131-4d97-9c87-1a207bf0e956"
      },
      "execution_count": 38,
      "outputs": [
        {
          "output_type": "execute_result",
          "data": {
            "text/plain": [
              "1184"
            ]
          },
          "metadata": {},
          "execution_count": 38
        }
      ]
    },
    {
      "cell_type": "markdown",
      "source": [
        "# Setting BERT Pretrained Model"
      ],
      "metadata": {
        "id": "WIA6nB1PGXrh"
      }
    },
    {
      "cell_type": "code",
      "source": [
        "from transformers import BertForSequenceClassification"
      ],
      "metadata": {
        "id": "-rO973UxGWXJ"
      },
      "execution_count": 39,
      "outputs": []
    },
    {
      "cell_type": "code",
      "source": [
        "len(label_dict)"
      ],
      "metadata": {
        "colab": {
          "base_uri": "https://localhost:8080/"
        },
        "id": "AuQlAbtjGxRq",
        "outputId": "d275bd5a-b9b2-48e5-8162-272057bdf7b5"
      },
      "execution_count": 41,
      "outputs": [
        {
          "output_type": "execute_result",
          "data": {
            "text/plain": [
              "6"
            ]
          },
          "metadata": {},
          "execution_count": 41
        }
      ]
    },
    {
      "cell_type": "code",
      "source": [
        "model = BertForSequenceClassification.from_pretrained('bert-base-uncased',\n",
        "                                                      num_labels = len(label_dict),\n",
        "                                                      output_attentions = False,\n",
        "                                                      output_hidden_states = False)"
      ],
      "metadata": {
        "colab": {
          "base_uri": "https://localhost:8080/"
        },
        "id": "zsTTpEfoHKbJ",
        "outputId": "7cd54dba-101b-4539-97fa-22cb16d5e584"
      },
      "execution_count": 43,
      "outputs": [
        {
          "output_type": "stream",
          "name": "stderr",
          "text": [
            "Some weights of BertForSequenceClassification were not initialized from the model checkpoint at bert-base-uncased and are newly initialized: ['classifier.bias', 'classifier.weight']\n",
            "You should probably TRAIN this model on a down-stream task to be able to use it for predictions and inference.\n"
          ]
        }
      ]
    },
    {
      "cell_type": "markdown",
      "source": [
        "# create Dataloader"
      ],
      "metadata": {
        "id": "TxKuMU_-HVec"
      }
    },
    {
      "cell_type": "code",
      "source": [
        "from torch.utils.data import DataLoader, RandomSampler, SequentialSampler"
      ],
      "metadata": {
        "id": "GYWCp9PuHLUA"
      },
      "execution_count": 44,
      "outputs": []
    },
    {
      "cell_type": "code",
      "source": [
        "batch_size = 32\n",
        "\n",
        "dataloader_train = DataLoader(dataset_train,\n",
        "                              sampler = RandomSampler(dataset_train),\n",
        "                              batch_size = batch_size)\n",
        "\n",
        "dataloader_validation = DataLoader(dataset_test,\n",
        "                                   sampler = SequentialSampler(dataset_test),\n",
        "                                   batch_size = batch_size)\n",
        "\n"
      ],
      "metadata": {
        "id": "_8AJpNHzHgLx"
      },
      "execution_count": 45,
      "outputs": []
    },
    {
      "cell_type": "code",
      "source": [
        "dataloader_train"
      ],
      "metadata": {
        "colab": {
          "base_uri": "https://localhost:8080/"
        },
        "id": "Z-1qwjBIIAfI",
        "outputId": "eab868c2-8a52-4b3d-c4f1-af3f667ca9e7"
      },
      "execution_count": 47,
      "outputs": [
        {
          "output_type": "execute_result",
          "data": {
            "text/plain": [
              "<torch.utils.data.dataloader.DataLoader at 0x7ff368fe7f40>"
            ]
          },
          "metadata": {},
          "execution_count": 47
        }
      ]
    },
    {
      "cell_type": "markdown",
      "source": [
        "# Optimizer and Scheduler"
      ],
      "metadata": {
        "id": "oEy6NkhLIHly"
      }
    },
    {
      "cell_type": "code",
      "source": [
        "from transformers import AdamW, get_linear_schedule_with_warmup"
      ],
      "metadata": {
        "id": "oX8uaJpPICH5"
      },
      "execution_count": 48,
      "outputs": []
    },
    {
      "cell_type": "code",
      "source": [
        "optimizer = AdamW(model.parameters(),\n",
        "                  lr= 1e-5,\n",
        "                  eps = 1e-8)"
      ],
      "metadata": {
        "colab": {
          "base_uri": "https://localhost:8080/"
        },
        "id": "FMInmdpkIP-9",
        "outputId": "2b087007-6e27-4af2-db16-bfa317f545eb"
      },
      "execution_count": 49,
      "outputs": [
        {
          "output_type": "stream",
          "name": "stderr",
          "text": [
            "/usr/local/lib/python3.10/dist-packages/transformers/optimization.py:588: FutureWarning: This implementation of AdamW is deprecated and will be removed in a future version. Use the PyTorch implementation torch.optim.AdamW instead, or set `no_deprecation_warning=True` to disable this warning\n",
            "  warnings.warn(\n"
          ]
        }
      ]
    },
    {
      "cell_type": "code",
      "source": [
        "epochs = 5\n",
        "scheduler = get_linear_schedule_with_warmup(optimizer,\n",
        "                                            num_warmup_steps = 5,\n",
        "                                            num_training_steps = len(dataloader_train) * epochs)"
      ],
      "metadata": {
        "id": "vGSgX13GIde5"
      },
      "execution_count": 64,
      "outputs": []
    },
    {
      "cell_type": "markdown",
      "source": [
        "# Performance Metrics"
      ],
      "metadata": {
        "id": "--XA_3xJI9f6"
      }
    },
    {
      "cell_type": "code",
      "source": [
        "import numpy as np\n",
        "from sklearn.metrics import f1_score\n",
        "\n"
      ],
      "metadata": {
        "id": "0M6xiO75I5uR"
      },
      "execution_count": 51,
      "outputs": []
    },
    {
      "cell_type": "code",
      "source": [
        "def f1_score_func(preds, labels):\n",
        "  preds_flat = np.argmax(preds, axis = 1).flatten()\n",
        "  labels_flat = labels.flatten()\n",
        "  return f1_score(labels_flat, preds_flat, average = 'weighted')"
      ],
      "metadata": {
        "id": "yIs5p7wWJL3x"
      },
      "execution_count": 62,
      "outputs": []
    },
    {
      "cell_type": "code",
      "source": [
        "def accuracy_per_class(preds, labels):\n",
        "    label_dict_inverse = {v: k for k, v in label_dict.items()}\n",
        "\n",
        "    preds_flat = np.argmax(preds, axis=1).flatten()\n",
        "    labels_flat = labels.flatten()\n",
        "\n",
        "    for label in np.unique(labels_flat):\n",
        "        y_preds = preds_flat[labels_flat==label]\n",
        "        y_true = labels_flat[labels_flat==label]\n",
        "        print(f'Class: {label_dict_inverse[label]}')\n",
        "        print(f'Accuracy: {len(y_preds[y_preds==label])}/{len(y_true)}\\n')"
      ],
      "metadata": {
        "id": "6RqlZDJhJjOe"
      },
      "execution_count": 63,
      "outputs": []
    },
    {
      "cell_type": "markdown",
      "source": [
        "# Training the BERT"
      ],
      "metadata": {
        "id": "y1APMyRwJnqx"
      }
    },
    {
      "cell_type": "code",
      "source": [
        "import random\n",
        "\n",
        "seed_val = 45\n",
        "random.seed(seed_val)\n",
        "np.random.seed(seed_val)\n",
        "torch.manual_seed(seed_val)\n",
        "torch.cuda.manual_seed_all(seed_val)"
      ],
      "metadata": {
        "id": "FRZ7MV2dJljZ"
      },
      "execution_count": 54,
      "outputs": []
    },
    {
      "cell_type": "code",
      "source": [
        "device = torch.device('cuda' if torch.cuda.is_available() else 'cpu')\n",
        "model.to(device)\n",
        "print(device)"
      ],
      "metadata": {
        "colab": {
          "base_uri": "https://localhost:8080/"
        },
        "id": "I19rJM38J_gx",
        "outputId": "de2ffef4-56bd-4945-9820-7da00bfc9e68"
      },
      "execution_count": 55,
      "outputs": [
        {
          "output_type": "stream",
          "name": "stdout",
          "text": [
            "cuda\n"
          ]
        }
      ]
    },
    {
      "cell_type": "code",
      "source": [
        "def evaluate(dataloader_val):\n",
        "\n",
        "  model.eval()\n",
        "\n",
        "  loss_val_total = 0\n",
        "  predictions, true_vals = [], []\n",
        "\n",
        "  for batch in dataloader_validation:\n",
        "    batch = tuple(b.to(device) for b in batch)\n",
        "\n",
        "    inputs = {'input_ids' :       batch[0],\n",
        "              'attention_mask':   batch[1],\n",
        "              'labels':           batch[2],\n",
        "              }\n",
        "\n",
        "    with torch.no_grad():\n",
        "      outputs = model(**inputs)\n",
        "\n",
        "      loss= outputs[0]\n",
        "      logits = outputs[1]\n",
        "      loss_val_total += loss.item()\n",
        "\n",
        "      logits = logits.detach().cpu().numpy()\n",
        "      label_ids = inputs['labels'].cpu().numpy()\n",
        "      predictions.append(logits)\n",
        "      true_vals.append(label_ids)\n",
        "\n",
        "    loss_val_avg = loss_val_total/len(dataloader_validation)\n",
        "\n",
        "    predictions = np.concatenate(predictions, axis = 0)\n",
        "    true_vals = np.concatenate(true_vals, axis = 0)\n",
        "\n",
        "    return loss_val_avg, predictions, true_vals\n"
      ],
      "metadata": {
        "id": "-RKuNdLvLPng"
      },
      "execution_count": 60,
      "outputs": []
    },
    {
      "cell_type": "code",
      "source": [
        "for epoch in tqdm(range(1, epochs + 1)):\n",
        "  model.train()\n",
        "\n",
        "  loss_train_total = 0\n",
        "\n",
        "  progress_bar = tqdm(dataloader_train,\n",
        "                      desc='Epoch {:1d}'.format(epoch),\n",
        "                      leave = False,\n",
        "                      disable = False)\n",
        "\n",
        "  for batch in progress_bar:\n",
        "\n",
        "    model.zero_grad()\n",
        "\n",
        "    batch = tuple(b.to(device) for b in batch)\n",
        "\n",
        "    inputs = {'input_ids':      batch[0],\n",
        "              'attention_mask': batch[1],\n",
        "              'labels':         batch[2]\n",
        "              }\n",
        "\n",
        "    outputs = model(**inputs)\n",
        "\n",
        "    loss = outputs[0]\n",
        "    loss_train_total += loss.item()\n",
        "    loss.backward()\n",
        "\n",
        "    torch.nn.utils.clip_grad_norm_(model.parameters(), 1.0)\n",
        "\n",
        "    optimizer.step()\n",
        "    scheduler.step()\n",
        "\n",
        "    progress_bar.set_postfix({'training_loss': '{:.3f}'.format(loss.item()/len(batch))})\n",
        "\n",
        "torch.save(model.state_dict(), f\"Finetuned_Bert_model_epo_{epoch}.model\")\n",
        "\n",
        "tqdm.write(f'\\nEpoch {epoch}')\n",
        "\n",
        "loss_train_avg = loss_train_total/len(dataloader_train)\n",
        "tqdm.write(f\"Validation loss: {loss_train_avg}\")\n",
        "\n",
        "val_loss, predictions, true_vals = evaluate(dataloader_validation)\n",
        "val_f1 = f1_score_func(predictions, true_vals)\n",
        "tqdm.write(f\"Validation loss: {val_loss}\")\n",
        "tqdm.write(f\"Validation F1 Score: {val_f1}\")"
      ],
      "metadata": {
        "colab": {
          "base_uri": "https://localhost:8080/"
        },
        "id": "sYzrf37nPcwN",
        "outputId": "d4595ba8-f502-47c8-9388-a3d51cb45d5c"
      },
      "execution_count": 65,
      "outputs": [
        {
          "output_type": "stream",
          "name": "stderr",
          "text": [
            "  0%|          | 0/5 [00:00<?, ?it/s]\n",
            "Epoch 1:   0%|          | 0/37 [00:00<?, ?it/s]\u001b[A\n",
            "Epoch 1:   0%|          | 0/37 [00:01<?, ?it/s, training_loss=0.248]\u001b[A\n",
            "Epoch 1:   3%|▎         | 1/37 [00:01<00:44,  1.24s/it, training_loss=0.248]\u001b[A\n",
            "Epoch 1:   3%|▎         | 1/37 [00:02<00:44,  1.24s/it, training_loss=0.261]\u001b[A\n",
            "Epoch 1:   5%|▌         | 2/37 [00:02<00:42,  1.21s/it, training_loss=0.261]\u001b[A\n",
            "Epoch 1:   5%|▌         | 2/37 [00:03<00:42,  1.21s/it, training_loss=0.196]\u001b[A\n",
            "Epoch 1:   8%|▊         | 3/37 [00:03<00:40,  1.21s/it, training_loss=0.196]\u001b[A\n",
            "Epoch 1:   8%|▊         | 3/37 [00:04<00:40,  1.21s/it, training_loss=0.222]\u001b[A\n",
            "Epoch 1:  11%|█         | 4/37 [00:04<00:39,  1.19s/it, training_loss=0.222]\u001b[A\n",
            "Epoch 1:  11%|█         | 4/37 [00:05<00:39,  1.19s/it, training_loss=0.214]\u001b[A\n",
            "Epoch 1:  14%|█▎        | 5/37 [00:06<00:38,  1.20s/it, training_loss=0.214]\u001b[A\n",
            "Epoch 1:  14%|█▎        | 5/37 [00:07<00:38,  1.20s/it, training_loss=0.165]\u001b[A\n",
            "Epoch 1:  16%|█▌        | 6/37 [00:07<00:37,  1.20s/it, training_loss=0.165]\u001b[A\n",
            "Epoch 1:  16%|█▌        | 6/37 [00:08<00:37,  1.20s/it, training_loss=0.202]\u001b[A\n",
            "Epoch 1:  19%|█▉        | 7/37 [00:08<00:36,  1.20s/it, training_loss=0.202]\u001b[A\n",
            "Epoch 1:  19%|█▉        | 7/37 [00:09<00:36,  1.20s/it, training_loss=0.266]\u001b[A\n",
            "Epoch 1:  22%|██▏       | 8/37 [00:09<00:34,  1.20s/it, training_loss=0.266]\u001b[A\n",
            "Epoch 1:  22%|██▏       | 8/37 [00:10<00:34,  1.20s/it, training_loss=0.315]\u001b[A\n",
            "Epoch 1:  24%|██▍       | 9/37 [00:10<00:33,  1.20s/it, training_loss=0.315]\u001b[A\n",
            "Epoch 1:  24%|██▍       | 9/37 [00:12<00:33,  1.20s/it, training_loss=0.260]\u001b[A\n",
            "Epoch 1:  27%|██▋       | 10/37 [00:12<00:32,  1.20s/it, training_loss=0.260]\u001b[A\n",
            "Epoch 1:  27%|██▋       | 10/37 [00:13<00:32,  1.20s/it, training_loss=0.310]\u001b[A\n",
            "Epoch 1:  30%|██▉       | 11/37 [00:13<00:31,  1.21s/it, training_loss=0.310]\u001b[A\n",
            "Epoch 1:  30%|██▉       | 11/37 [00:14<00:31,  1.21s/it, training_loss=0.268]\u001b[A\n",
            "Epoch 1:  32%|███▏      | 12/37 [00:14<00:30,  1.21s/it, training_loss=0.268]\u001b[A\n",
            "Epoch 1:  32%|███▏      | 12/37 [00:15<00:30,  1.21s/it, training_loss=0.232]\u001b[A\n",
            "Epoch 1:  35%|███▌      | 13/37 [00:15<00:29,  1.21s/it, training_loss=0.232]\u001b[A\n",
            "Epoch 1:  35%|███▌      | 13/37 [00:16<00:29,  1.21s/it, training_loss=0.277]\u001b[A\n",
            "Epoch 1:  38%|███▊      | 14/37 [00:16<00:27,  1.21s/it, training_loss=0.277]\u001b[A\n",
            "Epoch 1:  38%|███▊      | 14/37 [00:18<00:27,  1.21s/it, training_loss=0.228]\u001b[A\n",
            "Epoch 1:  41%|████      | 15/37 [00:18<00:26,  1.22s/it, training_loss=0.228]\u001b[A\n",
            "Epoch 1:  41%|████      | 15/37 [00:19<00:26,  1.22s/it, training_loss=0.198]\u001b[A\n",
            "Epoch 1:  43%|████▎     | 16/37 [00:19<00:25,  1.21s/it, training_loss=0.198]\u001b[A\n",
            "Epoch 1:  43%|████▎     | 16/37 [00:20<00:25,  1.21s/it, training_loss=0.203]\u001b[A\n",
            "Epoch 1:  46%|████▌     | 17/37 [00:20<00:24,  1.21s/it, training_loss=0.203]\u001b[A\n",
            "Epoch 1:  46%|████▌     | 17/37 [00:21<00:24,  1.21s/it, training_loss=0.224]\u001b[A\n",
            "Epoch 1:  49%|████▊     | 18/37 [00:21<00:23,  1.21s/it, training_loss=0.224]\u001b[A\n",
            "Epoch 1:  49%|████▊     | 18/37 [00:22<00:23,  1.21s/it, training_loss=0.217]\u001b[A\n",
            "Epoch 1:  51%|█████▏    | 19/37 [00:22<00:21,  1.22s/it, training_loss=0.217]\u001b[A\n",
            "Epoch 1:  51%|█████▏    | 19/37 [00:24<00:21,  1.22s/it, training_loss=0.231]\u001b[A\n",
            "Epoch 1:  54%|█████▍    | 20/37 [00:24<00:20,  1.22s/it, training_loss=0.231]\u001b[A\n",
            "Epoch 1:  54%|█████▍    | 20/37 [00:25<00:20,  1.22s/it, training_loss=0.232]\u001b[A\n",
            "Epoch 1:  57%|█████▋    | 21/37 [00:25<00:19,  1.22s/it, training_loss=0.232]\u001b[A\n",
            "Epoch 1:  57%|█████▋    | 21/37 [00:26<00:19,  1.22s/it, training_loss=0.140]\u001b[A\n",
            "Epoch 1:  59%|█████▉    | 22/37 [00:26<00:18,  1.22s/it, training_loss=0.140]\u001b[A\n",
            "Epoch 1:  59%|█████▉    | 22/37 [00:27<00:18,  1.22s/it, training_loss=0.214]\u001b[A\n",
            "Epoch 1:  62%|██████▏   | 23/37 [00:27<00:17,  1.22s/it, training_loss=0.214]\u001b[A\n",
            "Epoch 1:  62%|██████▏   | 23/37 [00:29<00:17,  1.22s/it, training_loss=0.275]\u001b[A\n",
            "Epoch 1:  65%|██████▍   | 24/37 [00:29<00:15,  1.22s/it, training_loss=0.275]\u001b[A\n",
            "Epoch 1:  65%|██████▍   | 24/37 [00:30<00:15,  1.22s/it, training_loss=0.164]\u001b[A\n",
            "Epoch 1:  68%|██████▊   | 25/37 [00:30<00:14,  1.23s/it, training_loss=0.164]\u001b[A\n",
            "Epoch 1:  68%|██████▊   | 25/37 [00:31<00:14,  1.23s/it, training_loss=0.196]\u001b[A\n",
            "Epoch 1:  70%|███████   | 26/37 [00:31<00:13,  1.23s/it, training_loss=0.196]\u001b[A\n",
            "Epoch 1:  70%|███████   | 26/37 [00:32<00:13,  1.23s/it, training_loss=0.268]\u001b[A\n",
            "Epoch 1:  73%|███████▎  | 27/37 [00:32<00:12,  1.23s/it, training_loss=0.268]\u001b[A\n",
            "Epoch 1:  73%|███████▎  | 27/37 [00:33<00:12,  1.23s/it, training_loss=0.204]\u001b[A\n",
            "Epoch 1:  76%|███████▌  | 28/37 [00:33<00:11,  1.23s/it, training_loss=0.204]\u001b[A\n",
            "Epoch 1:  76%|███████▌  | 28/37 [00:35<00:11,  1.23s/it, training_loss=0.187]\u001b[A\n",
            "Epoch 1:  78%|███████▊  | 29/37 [00:35<00:09,  1.23s/it, training_loss=0.187]\u001b[A\n",
            "Epoch 1:  78%|███████▊  | 29/37 [00:36<00:09,  1.23s/it, training_loss=0.190]\u001b[A\n",
            "Epoch 1:  81%|████████  | 30/37 [00:36<00:08,  1.23s/it, training_loss=0.190]\u001b[A\n",
            "Epoch 1:  81%|████████  | 30/37 [00:37<00:08,  1.23s/it, training_loss=0.222]\u001b[A\n",
            "Epoch 1:  84%|████████▍ | 31/37 [00:37<00:07,  1.23s/it, training_loss=0.222]\u001b[A\n",
            "Epoch 1:  84%|████████▍ | 31/37 [00:38<00:07,  1.23s/it, training_loss=0.265]\u001b[A\n",
            "Epoch 1:  86%|████████▋ | 32/37 [00:38<00:06,  1.23s/it, training_loss=0.265]\u001b[A\n",
            "Epoch 1:  86%|████████▋ | 32/37 [00:40<00:06,  1.23s/it, training_loss=0.285]\u001b[A\n",
            "Epoch 1:  89%|████████▉ | 33/37 [00:40<00:04,  1.24s/it, training_loss=0.285]\u001b[A\n",
            "Epoch 1:  89%|████████▉ | 33/37 [00:41<00:04,  1.24s/it, training_loss=0.210]\u001b[A\n",
            "Epoch 1:  92%|█████████▏| 34/37 [00:41<00:03,  1.24s/it, training_loss=0.210]\u001b[A\n",
            "Epoch 1:  92%|█████████▏| 34/37 [00:42<00:03,  1.24s/it, training_loss=0.264]\u001b[A\n",
            "Epoch 1:  95%|█████████▍| 35/37 [00:42<00:02,  1.24s/it, training_loss=0.264]\u001b[A\n",
            "Epoch 1:  95%|█████████▍| 35/37 [00:43<00:02,  1.24s/it, training_loss=0.180]\u001b[A\n",
            "Epoch 1:  97%|█████████▋| 36/37 [00:43<00:01,  1.24s/it, training_loss=0.180]\u001b[A\n",
            "Epoch 1:  97%|█████████▋| 36/37 [00:45<00:01,  1.24s/it, training_loss=0.223]\u001b[A\n",
            "Epoch 1: 100%|██████████| 37/37 [00:45<00:00,  1.24s/it, training_loss=0.223]\u001b[A\n",
            " 20%|██        | 1/5 [00:45<03:00, 45.16s/it]\n",
            "Epoch 2:   0%|          | 0/37 [00:00<?, ?it/s]\u001b[A\n",
            "Epoch 2:   0%|          | 0/37 [00:01<?, ?it/s, training_loss=0.151]\u001b[A\n",
            "Epoch 2:   3%|▎         | 1/37 [00:01<00:44,  1.24s/it, training_loss=0.151]\u001b[A\n",
            "Epoch 2:   3%|▎         | 1/37 [00:02<00:44,  1.24s/it, training_loss=0.229]\u001b[A\n",
            "Epoch 2:   5%|▌         | 2/37 [00:02<00:43,  1.24s/it, training_loss=0.229]\u001b[A\n",
            "Epoch 2:   5%|▌         | 2/37 [00:03<00:43,  1.24s/it, training_loss=0.118]\u001b[A\n",
            "Epoch 2:   8%|▊         | 3/37 [00:03<00:42,  1.24s/it, training_loss=0.118]\u001b[A\n",
            "Epoch 2:   8%|▊         | 3/37 [00:04<00:42,  1.24s/it, training_loss=0.139]\u001b[A\n",
            "Epoch 2:  11%|█         | 4/37 [00:04<00:41,  1.24s/it, training_loss=0.139]\u001b[A\n",
            "Epoch 2:  11%|█         | 4/37 [00:06<00:41,  1.24s/it, training_loss=0.180]\u001b[A\n",
            "Epoch 2:  14%|█▎        | 5/37 [00:06<00:39,  1.24s/it, training_loss=0.180]\u001b[A\n",
            "Epoch 2:  14%|█▎        | 5/37 [00:07<00:39,  1.24s/it, training_loss=0.199]\u001b[A\n",
            "Epoch 2:  16%|█▌        | 6/37 [00:07<00:38,  1.25s/it, training_loss=0.199]\u001b[A\n",
            "Epoch 2:  16%|█▌        | 6/37 [00:08<00:38,  1.25s/it, training_loss=0.204]\u001b[A\n",
            "Epoch 2:  19%|█▉        | 7/37 [00:08<00:37,  1.25s/it, training_loss=0.204]\u001b[A\n",
            "Epoch 2:  19%|█▉        | 7/37 [00:09<00:37,  1.25s/it, training_loss=0.160]\u001b[A\n",
            "Epoch 2:  22%|██▏       | 8/37 [00:09<00:36,  1.25s/it, training_loss=0.160]\u001b[A\n",
            "Epoch 2:  22%|██▏       | 8/37 [00:11<00:36,  1.25s/it, training_loss=0.177]\u001b[A\n",
            "Epoch 2:  24%|██▍       | 9/37 [00:11<00:35,  1.25s/it, training_loss=0.177]\u001b[A\n",
            "Epoch 2:  24%|██▍       | 9/37 [00:12<00:35,  1.25s/it, training_loss=0.082]\u001b[A\n",
            "Epoch 2:  27%|██▋       | 10/37 [00:12<00:33,  1.25s/it, training_loss=0.082]\u001b[A\n",
            "Epoch 2:  27%|██▋       | 10/37 [00:13<00:33,  1.25s/it, training_loss=0.182]\u001b[A\n",
            "Epoch 2:  30%|██▉       | 11/37 [00:13<00:32,  1.25s/it, training_loss=0.182]\u001b[A\n",
            "Epoch 2:  30%|██▉       | 11/37 [00:14<00:32,  1.25s/it, training_loss=0.209]\u001b[A\n",
            "Epoch 2:  32%|███▏      | 12/37 [00:14<00:31,  1.25s/it, training_loss=0.209]\u001b[A\n",
            "Epoch 2:  32%|███▏      | 12/37 [00:16<00:31,  1.25s/it, training_loss=0.107]\u001b[A\n",
            "Epoch 2:  35%|███▌      | 13/37 [00:16<00:30,  1.25s/it, training_loss=0.107]\u001b[A\n",
            "Epoch 2:  35%|███▌      | 13/37 [00:17<00:30,  1.25s/it, training_loss=0.196]\u001b[A\n",
            "Epoch 2:  38%|███▊      | 14/37 [00:17<00:28,  1.25s/it, training_loss=0.196]\u001b[A\n",
            "Epoch 2:  38%|███▊      | 14/37 [00:18<00:28,  1.25s/it, training_loss=0.156]\u001b[A\n",
            "Epoch 2:  41%|████      | 15/37 [00:18<00:27,  1.26s/it, training_loss=0.156]\u001b[A\n",
            "Epoch 2:  41%|████      | 15/37 [00:20<00:27,  1.26s/it, training_loss=0.143]\u001b[A\n",
            "Epoch 2:  43%|████▎     | 16/37 [00:20<00:26,  1.26s/it, training_loss=0.143]\u001b[A\n",
            "Epoch 2:  43%|████▎     | 16/37 [00:21<00:26,  1.26s/it, training_loss=0.133]\u001b[A\n",
            "Epoch 2:  46%|████▌     | 17/37 [00:21<00:25,  1.26s/it, training_loss=0.133]\u001b[A\n",
            "Epoch 2:  46%|████▌     | 17/37 [00:22<00:25,  1.26s/it, training_loss=0.252]\u001b[A\n",
            "Epoch 2:  49%|████▊     | 18/37 [00:22<00:23,  1.26s/it, training_loss=0.252]\u001b[A\n",
            "Epoch 2:  49%|████▊     | 18/37 [00:23<00:23,  1.26s/it, training_loss=0.221]\u001b[A\n",
            "Epoch 2:  51%|█████▏    | 19/37 [00:23<00:22,  1.26s/it, training_loss=0.221]\u001b[A\n",
            "Epoch 2:  51%|█████▏    | 19/37 [00:25<00:22,  1.26s/it, training_loss=0.113]\u001b[A\n",
            "Epoch 2:  54%|█████▍    | 20/37 [00:25<00:21,  1.26s/it, training_loss=0.113]\u001b[A\n",
            "Epoch 2:  54%|█████▍    | 20/37 [00:26<00:21,  1.26s/it, training_loss=0.151]\u001b[A\n",
            "Epoch 2:  57%|█████▋    | 21/37 [00:26<00:20,  1.26s/it, training_loss=0.151]\u001b[A\n",
            "Epoch 2:  57%|█████▋    | 21/37 [00:27<00:20,  1.26s/it, training_loss=0.135]\u001b[A\n",
            "Epoch 2:  59%|█████▉    | 22/37 [00:27<00:18,  1.25s/it, training_loss=0.135]\u001b[A\n",
            "Epoch 2:  59%|█████▉    | 22/37 [00:28<00:18,  1.25s/it, training_loss=0.162]\u001b[A\n",
            "Epoch 2:  62%|██████▏   | 23/37 [00:28<00:17,  1.25s/it, training_loss=0.162]\u001b[A\n",
            "Epoch 2:  62%|██████▏   | 23/37 [00:30<00:17,  1.25s/it, training_loss=0.235]\u001b[A\n",
            "Epoch 2:  65%|██████▍   | 24/37 [00:30<00:16,  1.25s/it, training_loss=0.235]\u001b[A\n",
            "Epoch 2:  65%|██████▍   | 24/37 [00:31<00:16,  1.25s/it, training_loss=0.225]\u001b[A\n",
            "Epoch 2:  68%|██████▊   | 25/37 [00:31<00:15,  1.25s/it, training_loss=0.225]\u001b[A\n",
            "Epoch 2:  68%|██████▊   | 25/37 [00:32<00:15,  1.25s/it, training_loss=0.225]\u001b[A\n",
            "Epoch 2:  70%|███████   | 26/37 [00:32<00:13,  1.25s/it, training_loss=0.225]\u001b[A\n",
            "Epoch 2:  70%|███████   | 26/37 [00:33<00:13,  1.25s/it, training_loss=0.141]\u001b[A\n",
            "Epoch 2:  73%|███████▎  | 27/37 [00:33<00:12,  1.25s/it, training_loss=0.141]\u001b[A\n",
            "Epoch 2:  73%|███████▎  | 27/37 [00:35<00:12,  1.25s/it, training_loss=0.145]\u001b[A\n",
            "Epoch 2:  76%|███████▌  | 28/37 [00:35<00:11,  1.26s/it, training_loss=0.145]\u001b[A\n",
            "Epoch 2:  76%|███████▌  | 28/37 [00:36<00:11,  1.26s/it, training_loss=0.169]\u001b[A\n",
            "Epoch 2:  78%|███████▊  | 29/37 [00:36<00:10,  1.26s/it, training_loss=0.169]\u001b[A\n",
            "Epoch 2:  78%|███████▊  | 29/37 [00:37<00:10,  1.26s/it, training_loss=0.219]\u001b[A\n",
            "Epoch 2:  81%|████████  | 30/37 [00:37<00:08,  1.26s/it, training_loss=0.219]\u001b[A\n",
            "Epoch 2:  81%|████████  | 30/37 [00:38<00:08,  1.26s/it, training_loss=0.229]\u001b[A\n",
            "Epoch 2:  84%|████████▍ | 31/37 [00:38<00:07,  1.26s/it, training_loss=0.229]\u001b[A\n",
            "Epoch 2:  84%|████████▍ | 31/37 [00:40<00:07,  1.26s/it, training_loss=0.168]\u001b[A\n",
            "Epoch 2:  86%|████████▋ | 32/37 [00:40<00:06,  1.26s/it, training_loss=0.168]\u001b[A\n",
            "Epoch 2:  86%|████████▋ | 32/37 [00:41<00:06,  1.26s/it, training_loss=0.217]\u001b[A\n",
            "Epoch 2:  89%|████████▉ | 33/37 [00:41<00:05,  1.26s/it, training_loss=0.217]\u001b[A\n",
            "Epoch 2:  89%|████████▉ | 33/37 [00:42<00:05,  1.26s/it, training_loss=0.174]\u001b[A\n",
            "Epoch 2:  92%|█████████▏| 34/37 [00:42<00:03,  1.26s/it, training_loss=0.174]\u001b[A\n",
            "Epoch 2:  92%|█████████▏| 34/37 [00:43<00:03,  1.26s/it, training_loss=0.077]\u001b[A\n",
            "Epoch 2:  95%|█████████▍| 35/37 [00:43<00:02,  1.26s/it, training_loss=0.077]\u001b[A\n",
            "Epoch 2:  95%|█████████▍| 35/37 [00:45<00:02,  1.26s/it, training_loss=0.158]\u001b[A\n",
            "Epoch 2:  97%|█████████▋| 36/37 [00:45<00:01,  1.26s/it, training_loss=0.158]\u001b[A\n",
            "Epoch 2:  97%|█████████▋| 36/37 [00:46<00:01,  1.26s/it, training_loss=0.135]\u001b[A\n",
            "Epoch 2: 100%|██████████| 37/37 [00:46<00:00,  1.26s/it, training_loss=0.135]\u001b[A\n",
            " 40%|████      | 2/5 [01:31<02:17, 45.92s/it]\n",
            "Epoch 3:   0%|          | 0/37 [00:00<?, ?it/s]\u001b[A\n",
            "Epoch 3:   0%|          | 0/37 [00:01<?, ?it/s, training_loss=0.137]\u001b[A\n",
            "Epoch 3:   3%|▎         | 1/37 [00:01<00:45,  1.26s/it, training_loss=0.137]\u001b[A\n",
            "Epoch 3:   3%|▎         | 1/37 [00:02<00:45,  1.26s/it, training_loss=0.095]\u001b[A\n",
            "Epoch 3:   5%|▌         | 2/37 [00:02<00:44,  1.26s/it, training_loss=0.095]\u001b[A\n",
            "Epoch 3:   5%|▌         | 2/37 [00:03<00:44,  1.26s/it, training_loss=0.138]\u001b[A\n",
            "Epoch 3:   8%|▊         | 3/37 [00:03<00:42,  1.26s/it, training_loss=0.138]\u001b[A\n",
            "Epoch 3:   8%|▊         | 3/37 [00:05<00:42,  1.26s/it, training_loss=0.169]\u001b[A\n",
            "Epoch 3:  11%|█         | 4/37 [00:05<00:41,  1.26s/it, training_loss=0.169]\u001b[A\n",
            "Epoch 3:  11%|█         | 4/37 [00:06<00:41,  1.26s/it, training_loss=0.217]\u001b[A\n",
            "Epoch 3:  14%|█▎        | 5/37 [00:06<00:40,  1.26s/it, training_loss=0.217]\u001b[A\n",
            "Epoch 3:  14%|█▎        | 5/37 [00:07<00:40,  1.26s/it, training_loss=0.128]\u001b[A\n",
            "Epoch 3:  16%|█▌        | 6/37 [00:07<00:39,  1.26s/it, training_loss=0.128]\u001b[A\n",
            "Epoch 3:  16%|█▌        | 6/37 [00:08<00:39,  1.26s/it, training_loss=0.113]\u001b[A\n",
            "Epoch 3:  19%|█▉        | 7/37 [00:08<00:37,  1.27s/it, training_loss=0.113]\u001b[A\n",
            "Epoch 3:  19%|█▉        | 7/37 [00:10<00:37,  1.27s/it, training_loss=0.180]\u001b[A\n",
            "Epoch 3:  22%|██▏       | 8/37 [00:10<00:36,  1.27s/it, training_loss=0.180]\u001b[A\n",
            "Epoch 3:  22%|██▏       | 8/37 [00:11<00:36,  1.27s/it, training_loss=0.078]\u001b[A\n",
            "Epoch 3:  24%|██▍       | 9/37 [00:11<00:35,  1.27s/it, training_loss=0.078]\u001b[A\n",
            "Epoch 3:  24%|██▍       | 9/37 [00:12<00:35,  1.27s/it, training_loss=0.122]\u001b[A\n",
            "Epoch 3:  27%|██▋       | 10/37 [00:12<00:34,  1.27s/it, training_loss=0.122]\u001b[A\n",
            "Epoch 3:  27%|██▋       | 10/37 [00:13<00:34,  1.27s/it, training_loss=0.165]\u001b[A\n",
            "Epoch 3:  30%|██▉       | 11/37 [00:13<00:32,  1.27s/it, training_loss=0.165]\u001b[A\n",
            "Epoch 3:  30%|██▉       | 11/37 [00:15<00:32,  1.27s/it, training_loss=0.167]\u001b[A\n",
            "Epoch 3:  32%|███▏      | 12/37 [00:15<00:31,  1.27s/it, training_loss=0.167]\u001b[A\n",
            "Epoch 3:  32%|███▏      | 12/37 [00:16<00:31,  1.27s/it, training_loss=0.192]\u001b[A\n",
            "Epoch 3:  35%|███▌      | 13/37 [00:16<00:30,  1.27s/it, training_loss=0.192]\u001b[A\n",
            "Epoch 3:  35%|███▌      | 13/37 [00:17<00:30,  1.27s/it, training_loss=0.137]\u001b[A\n",
            "Epoch 3:  38%|███▊      | 14/37 [00:17<00:29,  1.27s/it, training_loss=0.137]\u001b[A\n",
            "Epoch 3:  38%|███▊      | 14/37 [00:19<00:29,  1.27s/it, training_loss=0.152]\u001b[A\n",
            "Epoch 3:  41%|████      | 15/37 [00:19<00:27,  1.27s/it, training_loss=0.152]\u001b[A\n",
            "Epoch 3:  41%|████      | 15/37 [00:20<00:27,  1.27s/it, training_loss=0.100]\u001b[A\n",
            "Epoch 3:  43%|████▎     | 16/37 [00:20<00:26,  1.27s/it, training_loss=0.100]\u001b[A\n",
            "Epoch 3:  43%|████▎     | 16/37 [00:21<00:26,  1.27s/it, training_loss=0.070]\u001b[A\n",
            "Epoch 3:  46%|████▌     | 17/37 [00:21<00:25,  1.27s/it, training_loss=0.070]\u001b[A\n",
            "Epoch 3:  46%|████▌     | 17/37 [00:22<00:25,  1.27s/it, training_loss=0.220]\u001b[A\n",
            "Epoch 3:  49%|████▊     | 18/37 [00:22<00:24,  1.28s/it, training_loss=0.220]\u001b[A\n",
            "Epoch 3:  49%|████▊     | 18/37 [00:24<00:24,  1.28s/it, training_loss=0.101]\u001b[A\n",
            "Epoch 3:  51%|█████▏    | 19/37 [00:24<00:22,  1.28s/it, training_loss=0.101]\u001b[A\n",
            "Epoch 3:  51%|█████▏    | 19/37 [00:25<00:22,  1.28s/it, training_loss=0.128]\u001b[A\n",
            "Epoch 3:  54%|█████▍    | 20/37 [00:25<00:21,  1.28s/it, training_loss=0.128]\u001b[A\n",
            "Epoch 3:  54%|█████▍    | 20/37 [00:26<00:21,  1.28s/it, training_loss=0.135]\u001b[A\n",
            "Epoch 3:  57%|█████▋    | 21/37 [00:26<00:20,  1.28s/it, training_loss=0.135]\u001b[A\n",
            "Epoch 3:  57%|█████▋    | 21/37 [00:27<00:20,  1.28s/it, training_loss=0.098]\u001b[A\n",
            "Epoch 3:  59%|█████▉    | 22/37 [00:27<00:19,  1.28s/it, training_loss=0.098]\u001b[A\n",
            "Epoch 3:  59%|█████▉    | 22/37 [00:29<00:19,  1.28s/it, training_loss=0.088]\u001b[A\n",
            "Epoch 3:  62%|██████▏   | 23/37 [00:29<00:17,  1.28s/it, training_loss=0.088]\u001b[A\n",
            "Epoch 3:  62%|██████▏   | 23/37 [00:30<00:17,  1.28s/it, training_loss=0.220]\u001b[A\n",
            "Epoch 3:  65%|██████▍   | 24/37 [00:30<00:16,  1.28s/it, training_loss=0.220]\u001b[A\n",
            "Epoch 3:  65%|██████▍   | 24/37 [00:31<00:16,  1.28s/it, training_loss=0.122]\u001b[A\n",
            "Epoch 3:  68%|██████▊   | 25/37 [00:31<00:15,  1.28s/it, training_loss=0.122]\u001b[A\n",
            "Epoch 3:  68%|██████▊   | 25/37 [00:33<00:15,  1.28s/it, training_loss=0.135]\u001b[A\n",
            "Epoch 3:  70%|███████   | 26/37 [00:33<00:14,  1.28s/it, training_loss=0.135]\u001b[A\n",
            "Epoch 3:  70%|███████   | 26/37 [00:34<00:14,  1.28s/it, training_loss=0.117]\u001b[A\n",
            "Epoch 3:  73%|███████▎  | 27/37 [00:34<00:12,  1.28s/it, training_loss=0.117]\u001b[A\n",
            "Epoch 3:  73%|███████▎  | 27/37 [00:35<00:12,  1.28s/it, training_loss=0.074]\u001b[A\n",
            "Epoch 3:  76%|███████▌  | 28/37 [00:35<00:11,  1.28s/it, training_loss=0.074]\u001b[A\n",
            "Epoch 3:  76%|███████▌  | 28/37 [00:36<00:11,  1.28s/it, training_loss=0.136]\u001b[A\n",
            "Epoch 3:  78%|███████▊  | 29/37 [00:36<00:10,  1.28s/it, training_loss=0.136]\u001b[A\n",
            "Epoch 3:  78%|███████▊  | 29/37 [00:38<00:10,  1.28s/it, training_loss=0.150]\u001b[A\n",
            "Epoch 3:  81%|████████  | 30/37 [00:38<00:08,  1.28s/it, training_loss=0.150]\u001b[A\n",
            "Epoch 3:  81%|████████  | 30/37 [00:39<00:08,  1.28s/it, training_loss=0.138]\u001b[A\n",
            "Epoch 3:  84%|████████▍ | 31/37 [00:39<00:07,  1.28s/it, training_loss=0.138]\u001b[A\n",
            "Epoch 3:  84%|████████▍ | 31/37 [00:40<00:07,  1.28s/it, training_loss=0.063]\u001b[A\n",
            "Epoch 3:  86%|████████▋ | 32/37 [00:40<00:06,  1.28s/it, training_loss=0.063]\u001b[A\n",
            "Epoch 3:  86%|████████▋ | 32/37 [00:42<00:06,  1.28s/it, training_loss=0.197]\u001b[A\n",
            "Epoch 3:  89%|████████▉ | 33/37 [00:42<00:05,  1.28s/it, training_loss=0.197]\u001b[A\n",
            "Epoch 3:  89%|████████▉ | 33/37 [00:43<00:05,  1.28s/it, training_loss=0.101]\u001b[A\n",
            "Epoch 3:  92%|█████████▏| 34/37 [00:43<00:03,  1.28s/it, training_loss=0.101]\u001b[A\n",
            "Epoch 3:  92%|█████████▏| 34/37 [00:44<00:03,  1.28s/it, training_loss=0.132]\u001b[A\n",
            "Epoch 3:  95%|█████████▍| 35/37 [00:44<00:02,  1.28s/it, training_loss=0.132]\u001b[A\n",
            "Epoch 3:  95%|█████████▍| 35/37 [00:45<00:02,  1.28s/it, training_loss=0.068]\u001b[A\n",
            "Epoch 3:  97%|█████████▋| 36/37 [00:45<00:01,  1.28s/it, training_loss=0.068]\u001b[A\n",
            "Epoch 3:  97%|█████████▋| 36/37 [00:47<00:01,  1.28s/it, training_loss=0.137]\u001b[A\n",
            "Epoch 3: 100%|██████████| 37/37 [00:47<00:00,  1.29s/it, training_loss=0.137]\u001b[A\n",
            " 60%|██████    | 3/5 [02:18<01:33, 46.51s/it]\n",
            "Epoch 4:   0%|          | 0/37 [00:00<?, ?it/s]\u001b[A\n",
            "Epoch 4:   0%|          | 0/37 [00:01<?, ?it/s, training_loss=0.067]\u001b[A\n",
            "Epoch 4:   3%|▎         | 1/37 [00:01<00:45,  1.28s/it, training_loss=0.067]\u001b[A\n",
            "Epoch 4:   3%|▎         | 1/37 [00:02<00:45,  1.28s/it, training_loss=0.082]\u001b[A\n",
            "Epoch 4:   5%|▌         | 2/37 [00:02<00:44,  1.28s/it, training_loss=0.082]\u001b[A\n",
            "Epoch 4:   5%|▌         | 2/37 [00:03<00:44,  1.28s/it, training_loss=0.100]\u001b[A\n",
            "Epoch 4:   8%|▊         | 3/37 [00:03<00:43,  1.29s/it, training_loss=0.100]\u001b[A\n",
            "Epoch 4:   8%|▊         | 3/37 [00:05<00:43,  1.29s/it, training_loss=0.098]\u001b[A\n",
            "Epoch 4:  11%|█         | 4/37 [00:05<00:42,  1.28s/it, training_loss=0.098]\u001b[A\n",
            "Epoch 4:  11%|█         | 4/37 [00:06<00:42,  1.28s/it, training_loss=0.071]\u001b[A\n",
            "Epoch 4:  14%|█▎        | 5/37 [00:06<00:41,  1.29s/it, training_loss=0.071]\u001b[A\n",
            "Epoch 4:  14%|█▎        | 5/37 [00:07<00:41,  1.29s/it, training_loss=0.075]\u001b[A\n",
            "Epoch 4:  16%|█▌        | 6/37 [00:07<00:39,  1.29s/it, training_loss=0.075]\u001b[A\n",
            "Epoch 4:  16%|█▌        | 6/37 [00:09<00:39,  1.29s/it, training_loss=0.066]\u001b[A\n",
            "Epoch 4:  19%|█▉        | 7/37 [00:09<00:38,  1.29s/it, training_loss=0.066]\u001b[A\n",
            "Epoch 4:  19%|█▉        | 7/37 [00:10<00:38,  1.29s/it, training_loss=0.082]\u001b[A\n",
            "Epoch 4:  22%|██▏       | 8/37 [00:10<00:37,  1.29s/it, training_loss=0.082]\u001b[A\n",
            "Epoch 4:  22%|██▏       | 8/37 [00:11<00:37,  1.29s/it, training_loss=0.089]\u001b[A\n",
            "Epoch 4:  24%|██▍       | 9/37 [00:11<00:36,  1.29s/it, training_loss=0.089]\u001b[A\n",
            "Epoch 4:  24%|██▍       | 9/37 [00:12<00:36,  1.29s/it, training_loss=0.105]\u001b[A\n",
            "Epoch 4:  27%|██▋       | 10/37 [00:12<00:34,  1.29s/it, training_loss=0.105]\u001b[A\n",
            "Epoch 4:  27%|██▋       | 10/37 [00:14<00:34,  1.29s/it, training_loss=0.125]\u001b[A\n",
            "Epoch 4:  30%|██▉       | 11/37 [00:14<00:33,  1.29s/it, training_loss=0.125]\u001b[A\n",
            "Epoch 4:  30%|██▉       | 11/37 [00:15<00:33,  1.29s/it, training_loss=0.153]\u001b[A\n",
            "Epoch 4:  32%|███▏      | 12/37 [00:15<00:32,  1.29s/it, training_loss=0.153]\u001b[A\n",
            "Epoch 4:  32%|███▏      | 12/37 [00:16<00:32,  1.29s/it, training_loss=0.168]\u001b[A\n",
            "Epoch 4:  35%|███▌      | 13/37 [00:16<00:30,  1.29s/it, training_loss=0.168]\u001b[A\n",
            "Epoch 4:  35%|███▌      | 13/37 [00:18<00:30,  1.29s/it, training_loss=0.100]\u001b[A\n",
            "Epoch 4:  38%|███▊      | 14/37 [00:18<00:29,  1.29s/it, training_loss=0.100]\u001b[A\n",
            "Epoch 4:  38%|███▊      | 14/37 [00:19<00:29,  1.29s/it, training_loss=0.179]\u001b[A\n",
            "Epoch 4:  41%|████      | 15/37 [00:19<00:28,  1.29s/it, training_loss=0.179]\u001b[A\n",
            "Epoch 4:  41%|████      | 15/37 [00:20<00:28,  1.29s/it, training_loss=0.130]\u001b[A\n",
            "Epoch 4:  43%|████▎     | 16/37 [00:20<00:27,  1.29s/it, training_loss=0.130]\u001b[A\n",
            "Epoch 4:  43%|████▎     | 16/37 [00:21<00:27,  1.29s/it, training_loss=0.133]\u001b[A\n",
            "Epoch 4:  46%|████▌     | 17/37 [00:21<00:25,  1.29s/it, training_loss=0.133]\u001b[A\n",
            "Epoch 4:  46%|████▌     | 17/37 [00:23<00:25,  1.29s/it, training_loss=0.053]\u001b[A\n",
            "Epoch 4:  49%|████▊     | 18/37 [00:23<00:24,  1.29s/it, training_loss=0.053]\u001b[A\n",
            "Epoch 4:  49%|████▊     | 18/37 [00:24<00:24,  1.29s/it, training_loss=0.157]\u001b[A\n",
            "Epoch 4:  51%|█████▏    | 19/37 [00:24<00:23,  1.29s/it, training_loss=0.157]\u001b[A\n",
            "Epoch 4:  51%|█████▏    | 19/37 [00:25<00:23,  1.29s/it, training_loss=0.052]\u001b[A\n",
            "Epoch 4:  54%|█████▍    | 20/37 [00:25<00:21,  1.29s/it, training_loss=0.052]\u001b[A\n",
            "Epoch 4:  54%|█████▍    | 20/37 [00:27<00:21,  1.29s/it, training_loss=0.180]\u001b[A\n",
            "Epoch 4:  57%|█████▋    | 21/37 [00:27<00:20,  1.29s/it, training_loss=0.180]\u001b[A\n",
            "Epoch 4:  57%|█████▋    | 21/37 [00:28<00:20,  1.29s/it, training_loss=0.094]\u001b[A\n",
            "Epoch 4:  59%|█████▉    | 22/37 [00:28<00:19,  1.29s/it, training_loss=0.094]\u001b[A\n",
            "Epoch 4:  59%|█████▉    | 22/37 [00:29<00:19,  1.29s/it, training_loss=0.045]\u001b[A\n",
            "Epoch 4:  62%|██████▏   | 23/37 [00:29<00:18,  1.29s/it, training_loss=0.045]\u001b[A\n",
            "Epoch 4:  62%|██████▏   | 23/37 [00:30<00:18,  1.29s/it, training_loss=0.111]\u001b[A\n",
            "Epoch 4:  65%|██████▍   | 24/37 [00:30<00:16,  1.29s/it, training_loss=0.111]\u001b[A\n",
            "Epoch 4:  65%|██████▍   | 24/37 [00:32<00:16,  1.29s/it, training_loss=0.147]\u001b[A\n",
            "Epoch 4:  68%|██████▊   | 25/37 [00:32<00:15,  1.29s/it, training_loss=0.147]\u001b[A\n",
            "Epoch 4:  68%|██████▊   | 25/37 [00:33<00:15,  1.29s/it, training_loss=0.058]\u001b[A\n",
            "Epoch 4:  70%|███████   | 26/37 [00:33<00:14,  1.29s/it, training_loss=0.058]\u001b[A\n",
            "Epoch 4:  70%|███████   | 26/37 [00:34<00:14,  1.29s/it, training_loss=0.089]\u001b[A\n",
            "Epoch 4:  73%|███████▎  | 27/37 [00:34<00:12,  1.29s/it, training_loss=0.089]\u001b[A\n",
            "Epoch 4:  73%|███████▎  | 27/37 [00:36<00:12,  1.29s/it, training_loss=0.201]\u001b[A\n",
            "Epoch 4:  76%|███████▌  | 28/37 [00:36<00:11,  1.29s/it, training_loss=0.201]\u001b[A\n",
            "Epoch 4:  76%|███████▌  | 28/37 [00:37<00:11,  1.29s/it, training_loss=0.104]\u001b[A\n",
            "Epoch 4:  78%|███████▊  | 29/37 [00:37<00:10,  1.29s/it, training_loss=0.104]\u001b[A\n",
            "Epoch 4:  78%|███████▊  | 29/37 [00:38<00:10,  1.29s/it, training_loss=0.107]\u001b[A\n",
            "Epoch 4:  81%|████████  | 30/37 [00:38<00:09,  1.29s/it, training_loss=0.107]\u001b[A\n",
            "Epoch 4:  81%|████████  | 30/37 [00:39<00:09,  1.29s/it, training_loss=0.133]\u001b[A\n",
            "Epoch 4:  84%|████████▍ | 31/37 [00:39<00:07,  1.29s/it, training_loss=0.133]\u001b[A\n",
            "Epoch 4:  84%|████████▍ | 31/37 [00:41<00:07,  1.29s/it, training_loss=0.121]\u001b[A\n",
            "Epoch 4:  86%|████████▋ | 32/37 [00:41<00:06,  1.29s/it, training_loss=0.121]\u001b[A\n",
            "Epoch 4:  86%|████████▋ | 32/37 [00:42<00:06,  1.29s/it, training_loss=0.079]\u001b[A\n",
            "Epoch 4:  89%|████████▉ | 33/37 [00:42<00:05,  1.29s/it, training_loss=0.079]\u001b[A\n",
            "Epoch 4:  89%|████████▉ | 33/37 [00:43<00:05,  1.29s/it, training_loss=0.141]\u001b[A\n",
            "Epoch 4:  92%|█████████▏| 34/37 [00:43<00:03,  1.29s/it, training_loss=0.141]\u001b[A\n",
            "Epoch 4:  92%|█████████▏| 34/37 [00:45<00:03,  1.29s/it, training_loss=0.110]\u001b[A\n",
            "Epoch 4:  95%|█████████▍| 35/37 [00:45<00:02,  1.29s/it, training_loss=0.110]\u001b[A\n",
            "Epoch 4:  95%|█████████▍| 35/37 [00:46<00:02,  1.29s/it, training_loss=0.168]\u001b[A\n",
            "Epoch 4:  97%|█████████▋| 36/37 [00:46<00:01,  1.29s/it, training_loss=0.168]\u001b[A\n",
            "Epoch 4:  97%|█████████▋| 36/37 [00:47<00:01,  1.29s/it, training_loss=0.172]\u001b[A\n",
            "Epoch 4: 100%|██████████| 37/37 [00:47<00:00,  1.29s/it, training_loss=0.172]\u001b[A\n",
            " 80%|████████  | 4/5 [03:06<00:46, 46.99s/it]\n",
            "Epoch 5:   0%|          | 0/37 [00:00<?, ?it/s]\u001b[A\n",
            "Epoch 5:   0%|          | 0/37 [00:01<?, ?it/s, training_loss=0.133]\u001b[A\n",
            "Epoch 5:   3%|▎         | 1/37 [00:01<00:46,  1.28s/it, training_loss=0.133]\u001b[A\n",
            "Epoch 5:   3%|▎         | 1/37 [00:02<00:46,  1.28s/it, training_loss=0.095]\u001b[A\n",
            "Epoch 5:   5%|▌         | 2/37 [00:02<00:44,  1.28s/it, training_loss=0.095]\u001b[A\n",
            "Epoch 5:   5%|▌         | 2/37 [00:03<00:44,  1.28s/it, training_loss=0.055]\u001b[A\n",
            "Epoch 5:   8%|▊         | 3/37 [00:03<00:43,  1.28s/it, training_loss=0.055]\u001b[A\n",
            "Epoch 5:   8%|▊         | 3/37 [00:05<00:43,  1.28s/it, training_loss=0.113]\u001b[A\n",
            "Epoch 5:  11%|█         | 4/37 [00:05<00:42,  1.29s/it, training_loss=0.113]\u001b[A\n",
            "Epoch 5:  11%|█         | 4/37 [00:06<00:42,  1.29s/it, training_loss=0.132]\u001b[A\n",
            "Epoch 5:  14%|█▎        | 5/37 [00:06<00:41,  1.29s/it, training_loss=0.132]\u001b[A\n",
            "Epoch 5:  14%|█▎        | 5/37 [00:07<00:41,  1.29s/it, training_loss=0.101]\u001b[A\n",
            "Epoch 5:  16%|█▌        | 6/37 [00:07<00:40,  1.29s/it, training_loss=0.101]\u001b[A\n",
            "Epoch 5:  16%|█▌        | 6/37 [00:09<00:40,  1.29s/it, training_loss=0.097]\u001b[A\n",
            "Epoch 5:  19%|█▉        | 7/37 [00:09<00:38,  1.29s/it, training_loss=0.097]\u001b[A\n",
            "Epoch 5:  19%|█▉        | 7/37 [00:10<00:38,  1.29s/it, training_loss=0.064]\u001b[A\n",
            "Epoch 5:  22%|██▏       | 8/37 [00:10<00:37,  1.29s/it, training_loss=0.064]\u001b[A\n",
            "Epoch 5:  22%|██▏       | 8/37 [00:11<00:37,  1.29s/it, training_loss=0.126]\u001b[A\n",
            "Epoch 5:  24%|██▍       | 9/37 [00:11<00:36,  1.29s/it, training_loss=0.126]\u001b[A\n",
            "Epoch 5:  24%|██▍       | 9/37 [00:12<00:36,  1.29s/it, training_loss=0.129]\u001b[A\n",
            "Epoch 5:  27%|██▋       | 10/37 [00:12<00:34,  1.29s/it, training_loss=0.129]\u001b[A\n",
            "Epoch 5:  27%|██▋       | 10/37 [00:14<00:34,  1.29s/it, training_loss=0.101]\u001b[A\n",
            "Epoch 5:  30%|██▉       | 11/37 [00:14<00:33,  1.29s/it, training_loss=0.101]\u001b[A\n",
            "Epoch 5:  30%|██▉       | 11/37 [00:15<00:33,  1.29s/it, training_loss=0.110]\u001b[A\n",
            "Epoch 5:  32%|███▏      | 12/37 [00:15<00:32,  1.29s/it, training_loss=0.110]\u001b[A\n",
            "Epoch 5:  32%|███▏      | 12/37 [00:16<00:32,  1.29s/it, training_loss=0.090]\u001b[A\n",
            "Epoch 5:  35%|███▌      | 13/37 [00:16<00:30,  1.29s/it, training_loss=0.090]\u001b[A\n",
            "Epoch 5:  35%|███▌      | 13/37 [00:18<00:30,  1.29s/it, training_loss=0.059]\u001b[A\n",
            "Epoch 5:  38%|███▊      | 14/37 [00:18<00:29,  1.29s/it, training_loss=0.059]\u001b[A\n",
            "Epoch 5:  38%|███▊      | 14/37 [00:19<00:29,  1.29s/it, training_loss=0.093]\u001b[A\n",
            "Epoch 5:  41%|████      | 15/37 [00:19<00:28,  1.29s/it, training_loss=0.093]\u001b[A\n",
            "Epoch 5:  41%|████      | 15/37 [00:20<00:28,  1.29s/it, training_loss=0.105]\u001b[A\n",
            "Epoch 5:  43%|████▎     | 16/37 [00:20<00:27,  1.29s/it, training_loss=0.105]\u001b[A\n",
            "Epoch 5:  43%|████▎     | 16/37 [00:21<00:27,  1.29s/it, training_loss=0.041]\u001b[A\n",
            "Epoch 5:  46%|████▌     | 17/37 [00:21<00:25,  1.29s/it, training_loss=0.041]\u001b[A\n",
            "Epoch 5:  46%|████▌     | 17/37 [00:23<00:25,  1.29s/it, training_loss=0.100]\u001b[A\n",
            "Epoch 5:  49%|████▊     | 18/37 [00:23<00:24,  1.29s/it, training_loss=0.100]\u001b[A\n",
            "Epoch 5:  49%|████▊     | 18/37 [00:24<00:24,  1.29s/it, training_loss=0.097]\u001b[A\n",
            "Epoch 5:  51%|█████▏    | 19/37 [00:24<00:23,  1.29s/it, training_loss=0.097]\u001b[A\n",
            "Epoch 5:  51%|█████▏    | 19/37 [00:25<00:23,  1.29s/it, training_loss=0.139]\u001b[A\n",
            "Epoch 5:  54%|█████▍    | 20/37 [00:25<00:21,  1.29s/it, training_loss=0.139]\u001b[A\n",
            "Epoch 5:  54%|█████▍    | 20/37 [00:27<00:21,  1.29s/it, training_loss=0.157]\u001b[A\n",
            "Epoch 5:  57%|█████▋    | 21/37 [00:27<00:20,  1.29s/it, training_loss=0.157]\u001b[A\n",
            "Epoch 5:  57%|█████▋    | 21/37 [00:28<00:20,  1.29s/it, training_loss=0.059]\u001b[A\n",
            "Epoch 5:  59%|█████▉    | 22/37 [00:28<00:19,  1.29s/it, training_loss=0.059]\u001b[A\n",
            "Epoch 5:  59%|█████▉    | 22/37 [00:29<00:19,  1.29s/it, training_loss=0.100]\u001b[A\n",
            "Epoch 5:  62%|██████▏   | 23/37 [00:29<00:18,  1.29s/it, training_loss=0.100]\u001b[A\n",
            "Epoch 5:  62%|██████▏   | 23/37 [00:30<00:18,  1.29s/it, training_loss=0.128]\u001b[A\n",
            "Epoch 5:  65%|██████▍   | 24/37 [00:30<00:16,  1.29s/it, training_loss=0.128]\u001b[A\n",
            "Epoch 5:  65%|██████▍   | 24/37 [00:32<00:16,  1.29s/it, training_loss=0.084]\u001b[A\n",
            "Epoch 5:  68%|██████▊   | 25/37 [00:32<00:15,  1.29s/it, training_loss=0.084]\u001b[A\n",
            "Epoch 5:  68%|██████▊   | 25/37 [00:33<00:15,  1.29s/it, training_loss=0.088]\u001b[A\n",
            "Epoch 5:  70%|███████   | 26/37 [00:33<00:14,  1.29s/it, training_loss=0.088]\u001b[A\n",
            "Epoch 5:  70%|███████   | 26/37 [00:34<00:14,  1.29s/it, training_loss=0.071]\u001b[A\n",
            "Epoch 5:  73%|███████▎  | 27/37 [00:34<00:12,  1.29s/it, training_loss=0.071]\u001b[A\n",
            "Epoch 5:  73%|███████▎  | 27/37 [00:36<00:12,  1.29s/it, training_loss=0.065]\u001b[A\n",
            "Epoch 5:  76%|███████▌  | 28/37 [00:36<00:11,  1.29s/it, training_loss=0.065]\u001b[A\n",
            "Epoch 5:  76%|███████▌  | 28/37 [00:37<00:11,  1.29s/it, training_loss=0.076]\u001b[A\n",
            "Epoch 5:  78%|███████▊  | 29/37 [00:37<00:10,  1.29s/it, training_loss=0.076]\u001b[A\n",
            "Epoch 5:  78%|███████▊  | 29/37 [00:38<00:10,  1.29s/it, training_loss=0.202]\u001b[A\n",
            "Epoch 5:  81%|████████  | 30/37 [00:38<00:09,  1.29s/it, training_loss=0.202]\u001b[A\n",
            "Epoch 5:  81%|████████  | 30/37 [00:40<00:09,  1.29s/it, training_loss=0.070]\u001b[A\n",
            "Epoch 5:  84%|████████▍ | 31/37 [00:40<00:07,  1.29s/it, training_loss=0.070]\u001b[A\n",
            "Epoch 5:  84%|████████▍ | 31/37 [00:41<00:07,  1.29s/it, training_loss=0.128]\u001b[A\n",
            "Epoch 5:  86%|████████▋ | 32/37 [00:41<00:06,  1.29s/it, training_loss=0.128]\u001b[A\n",
            "Epoch 5:  86%|████████▋ | 32/37 [00:42<00:06,  1.29s/it, training_loss=0.142]\u001b[A\n",
            "Epoch 5:  89%|████████▉ | 33/37 [00:42<00:05,  1.29s/it, training_loss=0.142]\u001b[A\n",
            "Epoch 5:  89%|████████▉ | 33/37 [00:43<00:05,  1.29s/it, training_loss=0.161]\u001b[A\n",
            "Epoch 5:  92%|█████████▏| 34/37 [00:43<00:03,  1.29s/it, training_loss=0.161]\u001b[A\n",
            "Epoch 5:  92%|█████████▏| 34/37 [00:45<00:03,  1.29s/it, training_loss=0.077]\u001b[A\n",
            "Epoch 5:  95%|█████████▍| 35/37 [00:45<00:02,  1.29s/it, training_loss=0.077]\u001b[A\n",
            "Epoch 5:  95%|█████████▍| 35/37 [00:46<00:02,  1.29s/it, training_loss=0.101]\u001b[A\n",
            "Epoch 5:  97%|█████████▋| 36/37 [00:46<00:01,  1.29s/it, training_loss=0.101]\u001b[A\n",
            "Epoch 5:  97%|█████████▋| 36/37 [00:47<00:01,  1.29s/it, training_loss=0.078]\u001b[A\n",
            "Epoch 5: 100%|██████████| 37/37 [00:47<00:00,  1.29s/it, training_loss=0.078]\u001b[A\n",
            "100%|██████████| 5/5 [03:54<00:00, 46.87s/it]\n"
          ]
        },
        {
          "output_type": "stream",
          "name": "stdout",
          "text": [
            "\n",
            "Epoch 5\n",
            "Validation loss: 0.305333253902358\n",
            "Validation loss: 0.03765441775321961\n",
            "Validation F1 Score: 0.8345352564102564\n"
          ]
        }
      ]
    },
    {
      "cell_type": "code",
      "source": [],
      "metadata": {
        "id": "jWKDuUfIPeJr"
      },
      "execution_count": null,
      "outputs": []
    },
    {
      "cell_type": "markdown",
      "source": [
        "# Inference"
      ],
      "metadata": {
        "id": "fiFvOPoJQP3v"
      }
    },
    {
      "cell_type": "code",
      "source": [
        "model = BertForSequenceClassification.from_pretrained(\"bert-base-uncased\",\n",
        "                                                      num_labels=len(label_dict),\n",
        "                                                      output_attentions=False,\n",
        "                                                      output_hidden_states=False)\n",
        "\n",
        "model.to(device)"
      ],
      "metadata": {
        "colab": {
          "base_uri": "https://localhost:8080/"
        },
        "id": "a1pzbqK0QPA9",
        "outputId": "b72c79e7-a830-4a5c-eee2-3554038a457b"
      },
      "execution_count": 75,
      "outputs": [
        {
          "output_type": "stream",
          "name": "stderr",
          "text": [
            "Some weights of BertForSequenceClassification were not initialized from the model checkpoint at bert-base-uncased and are newly initialized: ['classifier.bias', 'classifier.weight']\n",
            "You should probably TRAIN this model on a down-stream task to be able to use it for predictions and inference.\n"
          ]
        },
        {
          "output_type": "execute_result",
          "data": {
            "text/plain": [
              "BertForSequenceClassification(\n",
              "  (bert): BertModel(\n",
              "    (embeddings): BertEmbeddings(\n",
              "      (word_embeddings): Embedding(30522, 768, padding_idx=0)\n",
              "      (position_embeddings): Embedding(512, 768)\n",
              "      (token_type_embeddings): Embedding(2, 768)\n",
              "      (LayerNorm): LayerNorm((768,), eps=1e-12, elementwise_affine=True)\n",
              "      (dropout): Dropout(p=0.1, inplace=False)\n",
              "    )\n",
              "    (encoder): BertEncoder(\n",
              "      (layer): ModuleList(\n",
              "        (0-11): 12 x BertLayer(\n",
              "          (attention): BertAttention(\n",
              "            (self): BertSdpaSelfAttention(\n",
              "              (query): Linear(in_features=768, out_features=768, bias=True)\n",
              "              (key): Linear(in_features=768, out_features=768, bias=True)\n",
              "              (value): Linear(in_features=768, out_features=768, bias=True)\n",
              "              (dropout): Dropout(p=0.1, inplace=False)\n",
              "            )\n",
              "            (output): BertSelfOutput(\n",
              "              (dense): Linear(in_features=768, out_features=768, bias=True)\n",
              "              (LayerNorm): LayerNorm((768,), eps=1e-12, elementwise_affine=True)\n",
              "              (dropout): Dropout(p=0.1, inplace=False)\n",
              "            )\n",
              "          )\n",
              "          (intermediate): BertIntermediate(\n",
              "            (dense): Linear(in_features=768, out_features=3072, bias=True)\n",
              "            (intermediate_act_fn): GELUActivation()\n",
              "          )\n",
              "          (output): BertOutput(\n",
              "            (dense): Linear(in_features=3072, out_features=768, bias=True)\n",
              "            (LayerNorm): LayerNorm((768,), eps=1e-12, elementwise_affine=True)\n",
              "            (dropout): Dropout(p=0.1, inplace=False)\n",
              "          )\n",
              "        )\n",
              "      )\n",
              "    )\n",
              "    (pooler): BertPooler(\n",
              "      (dense): Linear(in_features=768, out_features=768, bias=True)\n",
              "      (activation): Tanh()\n",
              "    )\n",
              "  )\n",
              "  (dropout): Dropout(p=0.1, inplace=False)\n",
              "  (classifier): Linear(in_features=768, out_features=6, bias=True)\n",
              ")"
            ]
          },
          "metadata": {},
          "execution_count": 75
        }
      ]
    },
    {
      "cell_type": "code",
      "source": [
        "model.load_state_dict(torch.load('/content/Finetuned_Bert_model_epo_5.model', map_location=torch.device('cpu')))"
      ],
      "metadata": {
        "colab": {
          "base_uri": "https://localhost:8080/"
        },
        "id": "7_bIAS3EQarA",
        "outputId": "d239f254-027e-443f-a378-94160e8a40f6"
      },
      "execution_count": 76,
      "outputs": [
        {
          "output_type": "execute_result",
          "data": {
            "text/plain": [
              "<All keys matched successfully>"
            ]
          },
          "metadata": {},
          "execution_count": 76
        }
      ]
    },
    {
      "cell_type": "code",
      "source": [
        "_, predictions, true_vals = evaluate(dataloader_validation)"
      ],
      "metadata": {
        "id": "sg4LtdkhQzac"
      },
      "execution_count": 77,
      "outputs": []
    },
    {
      "cell_type": "code",
      "source": [
        "accuracy_per_class(predictions, true_vals)"
      ],
      "metadata": {
        "colab": {
          "base_uri": "https://localhost:8080/"
        },
        "id": "Qp53ubGyQ12p",
        "outputId": "d1917471-ed3d-4743-8303-146c0ad8c643"
      },
      "execution_count": 78,
      "outputs": [
        {
          "output_type": "stream",
          "name": "stdout",
          "text": [
            "Class: happy\n",
            "Accuracy: 25/25\n",
            "\n",
            "Class: not-relevant\n",
            "Accuracy: 3/4\n",
            "\n",
            "Class: angry\n",
            "Accuracy: 0/3\n",
            "\n"
          ]
        }
      ]
    },
    {
      "cell_type": "code",
      "source": [],
      "metadata": {
        "id": "aRU16PF4S__y"
      },
      "execution_count": null,
      "outputs": []
    }
  ]
}